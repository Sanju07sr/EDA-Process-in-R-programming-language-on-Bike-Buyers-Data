{
 "cells": [
  {
   "cell_type": "code",
   "execution_count": 1,
   "id": "fbdafa7b",
   "metadata": {
    "scrolled": true
   },
   "outputs": [
    {
     "name": "stderr",
     "output_type": "stream",
     "text": [
      "\n",
      "Attaching package: 'dplyr'\n",
      "\n",
      "\n",
      "The following objects are masked from 'package:stats':\n",
      "\n",
      "    filter, lag\n",
      "\n",
      "\n",
      "The following objects are masked from 'package:base':\n",
      "\n",
      "    intersect, setdiff, setequal, union\n",
      "\n",
      "\n"
     ]
    }
   ],
   "source": [
    "options(warn=-1)\n",
    "library('tidyr')\n",
    "library('ggplot2')\n",
    "library('dplyr')"
   ]
  },
  {
   "cell_type": "code",
   "execution_count": 2,
   "id": "298cfa6d",
   "metadata": {},
   "outputs": [
    {
     "data": {
      "text/html": [
       "<table class=\"dataframe\">\n",
       "<caption>A data.frame: 6 × 13</caption>\n",
       "<thead>\n",
       "\t<tr><th></th><th scope=col>ID</th><th scope=col>Marital.Status</th><th scope=col>Gender</th><th scope=col>Income</th><th scope=col>Children</th><th scope=col>Education</th><th scope=col>Occupation</th><th scope=col>Home.Owner</th><th scope=col>Cars</th><th scope=col>Commute.Distance</th><th scope=col>Region</th><th scope=col>Age</th><th scope=col>Purchased.Bike</th></tr>\n",
       "\t<tr><th></th><th scope=col>&lt;int&gt;</th><th scope=col>&lt;chr&gt;</th><th scope=col>&lt;chr&gt;</th><th scope=col>&lt;int&gt;</th><th scope=col>&lt;int&gt;</th><th scope=col>&lt;chr&gt;</th><th scope=col>&lt;chr&gt;</th><th scope=col>&lt;chr&gt;</th><th scope=col>&lt;int&gt;</th><th scope=col>&lt;chr&gt;</th><th scope=col>&lt;chr&gt;</th><th scope=col>&lt;int&gt;</th><th scope=col>&lt;chr&gt;</th></tr>\n",
       "</thead>\n",
       "<tbody>\n",
       "\t<tr><th scope=row>1</th><td>12496</td><td>Married</td><td>Female</td><td>40000</td><td>1</td><td>Bachelors      </td><td>Skilled Manual</td><td>Yes</td><td>0</td><td>0-1 Miles </td><td>Europe </td><td>42</td><td>No </td></tr>\n",
       "\t<tr><th scope=row>2</th><td>24107</td><td>Married</td><td>Male  </td><td>30000</td><td>3</td><td>Partial College</td><td>Clerical      </td><td>Yes</td><td>1</td><td>0-1 Miles </td><td>Europe </td><td>43</td><td>No </td></tr>\n",
       "\t<tr><th scope=row>3</th><td>14177</td><td>Married</td><td>Male  </td><td>80000</td><td>5</td><td>Partial College</td><td>Professional  </td><td>No </td><td>2</td><td>2-5 Miles </td><td>Europe </td><td>60</td><td>No </td></tr>\n",
       "\t<tr><th scope=row>4</th><td>24381</td><td>Single </td><td>      </td><td>70000</td><td>0</td><td>Bachelors      </td><td>Professional  </td><td>Yes</td><td>1</td><td>5-10 Miles</td><td>Pacific</td><td>41</td><td>Yes</td></tr>\n",
       "\t<tr><th scope=row>5</th><td>25597</td><td>Single </td><td>Male  </td><td>30000</td><td>0</td><td>Bachelors      </td><td>Clerical      </td><td>No </td><td>0</td><td>0-1 Miles </td><td>Europe </td><td>36</td><td>Yes</td></tr>\n",
       "\t<tr><th scope=row>6</th><td>13507</td><td>Married</td><td>Female</td><td>10000</td><td>2</td><td>Partial College</td><td>Manual        </td><td>Yes</td><td>0</td><td>1-2 Miles </td><td>Europe </td><td>50</td><td>No </td></tr>\n",
       "</tbody>\n",
       "</table>\n"
      ],
      "text/latex": [
       "A data.frame: 6 × 13\n",
       "\\begin{tabular}{r|lllllllllllll}\n",
       "  & ID & Marital.Status & Gender & Income & Children & Education & Occupation & Home.Owner & Cars & Commute.Distance & Region & Age & Purchased.Bike\\\\\n",
       "  & <int> & <chr> & <chr> & <int> & <int> & <chr> & <chr> & <chr> & <int> & <chr> & <chr> & <int> & <chr>\\\\\n",
       "\\hline\n",
       "\t1 & 12496 & Married & Female & 40000 & 1 & Bachelors       & Skilled Manual & Yes & 0 & 0-1 Miles  & Europe  & 42 & No \\\\\n",
       "\t2 & 24107 & Married & Male   & 30000 & 3 & Partial College & Clerical       & Yes & 1 & 0-1 Miles  & Europe  & 43 & No \\\\\n",
       "\t3 & 14177 & Married & Male   & 80000 & 5 & Partial College & Professional   & No  & 2 & 2-5 Miles  & Europe  & 60 & No \\\\\n",
       "\t4 & 24381 & Single  &        & 70000 & 0 & Bachelors       & Professional   & Yes & 1 & 5-10 Miles & Pacific & 41 & Yes\\\\\n",
       "\t5 & 25597 & Single  & Male   & 30000 & 0 & Bachelors       & Clerical       & No  & 0 & 0-1 Miles  & Europe  & 36 & Yes\\\\\n",
       "\t6 & 13507 & Married & Female & 10000 & 2 & Partial College & Manual         & Yes & 0 & 1-2 Miles  & Europe  & 50 & No \\\\\n",
       "\\end{tabular}\n"
      ],
      "text/markdown": [
       "\n",
       "A data.frame: 6 × 13\n",
       "\n",
       "| <!--/--> | ID &lt;int&gt; | Marital.Status &lt;chr&gt; | Gender &lt;chr&gt; | Income &lt;int&gt; | Children &lt;int&gt; | Education &lt;chr&gt; | Occupation &lt;chr&gt; | Home.Owner &lt;chr&gt; | Cars &lt;int&gt; | Commute.Distance &lt;chr&gt; | Region &lt;chr&gt; | Age &lt;int&gt; | Purchased.Bike &lt;chr&gt; |\n",
       "|---|---|---|---|---|---|---|---|---|---|---|---|---|---|\n",
       "| 1 | 12496 | Married | Female | 40000 | 1 | Bachelors       | Skilled Manual | Yes | 0 | 0-1 Miles  | Europe  | 42 | No  |\n",
       "| 2 | 24107 | Married | Male   | 30000 | 3 | Partial College | Clerical       | Yes | 1 | 0-1 Miles  | Europe  | 43 | No  |\n",
       "| 3 | 14177 | Married | Male   | 80000 | 5 | Partial College | Professional   | No  | 2 | 2-5 Miles  | Europe  | 60 | No  |\n",
       "| 4 | 24381 | Single  | <!----> | 70000 | 0 | Bachelors       | Professional   | Yes | 1 | 5-10 Miles | Pacific | 41 | Yes |\n",
       "| 5 | 25597 | Single  | Male   | 30000 | 0 | Bachelors       | Clerical       | No  | 0 | 0-1 Miles  | Europe  | 36 | Yes |\n",
       "| 6 | 13507 | Married | Female | 10000 | 2 | Partial College | Manual         | Yes | 0 | 1-2 Miles  | Europe  | 50 | No  |\n",
       "\n"
      ],
      "text/plain": [
       "  ID    Marital.Status Gender Income Children Education       Occupation    \n",
       "1 12496 Married        Female 40000  1        Bachelors       Skilled Manual\n",
       "2 24107 Married        Male   30000  3        Partial College Clerical      \n",
       "3 14177 Married        Male   80000  5        Partial College Professional  \n",
       "4 24381 Single                70000  0        Bachelors       Professional  \n",
       "5 25597 Single         Male   30000  0        Bachelors       Clerical      \n",
       "6 13507 Married        Female 10000  2        Partial College Manual        \n",
       "  Home.Owner Cars Commute.Distance Region  Age Purchased.Bike\n",
       "1 Yes        0    0-1 Miles        Europe  42  No            \n",
       "2 Yes        1    0-1 Miles        Europe  43  No            \n",
       "3 No         2    2-5 Miles        Europe  60  No            \n",
       "4 Yes        1    5-10 Miles       Pacific 41  Yes           \n",
       "5 No         0    0-1 Miles        Europe  36  Yes           \n",
       "6 Yes        0    1-2 Miles        Europe  50  No            "
      ]
     },
     "metadata": {},
     "output_type": "display_data"
    }
   ],
   "source": [
    "#Loading the Dataset\n",
    "bike_buyers=read.csv(\"bike_buyers.csv\")\n",
    "head(bike_buyers)"
   ]
  },
  {
   "cell_type": "code",
   "execution_count": 3,
   "id": "b33ea6a3",
   "metadata": {},
   "outputs": [
    {
     "data": {
      "text/html": [
       "<table class=\"dataframe\">\n",
       "<caption>A data.frame: 6 × 13</caption>\n",
       "<thead>\n",
       "\t<tr><th></th><th scope=col>ID</th><th scope=col>Marital.Status</th><th scope=col>Gender</th><th scope=col>Income</th><th scope=col>Children</th><th scope=col>Education</th><th scope=col>Occupation</th><th scope=col>Home.Owner</th><th scope=col>Cars</th><th scope=col>Commute.Distance</th><th scope=col>Region</th><th scope=col>Age</th><th scope=col>Purchased.Bike</th></tr>\n",
       "\t<tr><th></th><th scope=col>&lt;int&gt;</th><th scope=col>&lt;chr&gt;</th><th scope=col>&lt;chr&gt;</th><th scope=col>&lt;int&gt;</th><th scope=col>&lt;int&gt;</th><th scope=col>&lt;chr&gt;</th><th scope=col>&lt;chr&gt;</th><th scope=col>&lt;chr&gt;</th><th scope=col>&lt;int&gt;</th><th scope=col>&lt;chr&gt;</th><th scope=col>&lt;chr&gt;</th><th scope=col>&lt;int&gt;</th><th scope=col>&lt;chr&gt;</th></tr>\n",
       "</thead>\n",
       "<tbody>\n",
       "\t<tr><th scope=row>995</th><td>13466</td><td>Married</td><td>Male</td><td> 80000</td><td>5</td><td>Partial College</td><td>Professional  </td><td>Yes</td><td>3</td><td>1-2 Miles</td><td>North America</td><td>46</td><td>No </td></tr>\n",
       "\t<tr><th scope=row>996</th><td>23731</td><td>Married</td><td>Male</td><td> 60000</td><td>2</td><td>High School    </td><td>Professional  </td><td>Yes</td><td>2</td><td>2-5 Miles</td><td>North America</td><td>54</td><td>Yes</td></tr>\n",
       "\t<tr><th scope=row>997</th><td>28672</td><td>Single </td><td>Male</td><td> 70000</td><td>4</td><td>Graduate Degree</td><td>Professional  </td><td>Yes</td><td>0</td><td>2-5 Miles</td><td>North America</td><td>35</td><td>Yes</td></tr>\n",
       "\t<tr><th scope=row>998</th><td>11809</td><td>Married</td><td>    </td><td> 60000</td><td>2</td><td>Bachelors      </td><td>Skilled Manual</td><td>Yes</td><td>0</td><td>0-1 Miles</td><td>North America</td><td>38</td><td>Yes</td></tr>\n",
       "\t<tr><th scope=row>999</th><td>19664</td><td>Single </td><td>Male</td><td>100000</td><td>3</td><td>Bachelors      </td><td>Management    </td><td>No </td><td>3</td><td>1-2 Miles</td><td>North America</td><td>38</td><td>No </td></tr>\n",
       "\t<tr><th scope=row>1000</th><td>12121</td><td>Single </td><td>Male</td><td> 60000</td><td>3</td><td>High School    </td><td>Professional  </td><td>Yes</td><td>2</td><td>10+ Miles</td><td>North America</td><td>53</td><td>Yes</td></tr>\n",
       "</tbody>\n",
       "</table>\n"
      ],
      "text/latex": [
       "A data.frame: 6 × 13\n",
       "\\begin{tabular}{r|lllllllllllll}\n",
       "  & ID & Marital.Status & Gender & Income & Children & Education & Occupation & Home.Owner & Cars & Commute.Distance & Region & Age & Purchased.Bike\\\\\n",
       "  & <int> & <chr> & <chr> & <int> & <int> & <chr> & <chr> & <chr> & <int> & <chr> & <chr> & <int> & <chr>\\\\\n",
       "\\hline\n",
       "\t995 & 13466 & Married & Male &  80000 & 5 & Partial College & Professional   & Yes & 3 & 1-2 Miles & North America & 46 & No \\\\\n",
       "\t996 & 23731 & Married & Male &  60000 & 2 & High School     & Professional   & Yes & 2 & 2-5 Miles & North America & 54 & Yes\\\\\n",
       "\t997 & 28672 & Single  & Male &  70000 & 4 & Graduate Degree & Professional   & Yes & 0 & 2-5 Miles & North America & 35 & Yes\\\\\n",
       "\t998 & 11809 & Married &      &  60000 & 2 & Bachelors       & Skilled Manual & Yes & 0 & 0-1 Miles & North America & 38 & Yes\\\\\n",
       "\t999 & 19664 & Single  & Male & 100000 & 3 & Bachelors       & Management     & No  & 3 & 1-2 Miles & North America & 38 & No \\\\\n",
       "\t1000 & 12121 & Single  & Male &  60000 & 3 & High School     & Professional   & Yes & 2 & 10+ Miles & North America & 53 & Yes\\\\\n",
       "\\end{tabular}\n"
      ],
      "text/markdown": [
       "\n",
       "A data.frame: 6 × 13\n",
       "\n",
       "| <!--/--> | ID &lt;int&gt; | Marital.Status &lt;chr&gt; | Gender &lt;chr&gt; | Income &lt;int&gt; | Children &lt;int&gt; | Education &lt;chr&gt; | Occupation &lt;chr&gt; | Home.Owner &lt;chr&gt; | Cars &lt;int&gt; | Commute.Distance &lt;chr&gt; | Region &lt;chr&gt; | Age &lt;int&gt; | Purchased.Bike &lt;chr&gt; |\n",
       "|---|---|---|---|---|---|---|---|---|---|---|---|---|---|\n",
       "| 995 | 13466 | Married | Male |  80000 | 5 | Partial College | Professional   | Yes | 3 | 1-2 Miles | North America | 46 | No  |\n",
       "| 996 | 23731 | Married | Male |  60000 | 2 | High School     | Professional   | Yes | 2 | 2-5 Miles | North America | 54 | Yes |\n",
       "| 997 | 28672 | Single  | Male |  70000 | 4 | Graduate Degree | Professional   | Yes | 0 | 2-5 Miles | North America | 35 | Yes |\n",
       "| 998 | 11809 | Married | <!----> |  60000 | 2 | Bachelors       | Skilled Manual | Yes | 0 | 0-1 Miles | North America | 38 | Yes |\n",
       "| 999 | 19664 | Single  | Male | 100000 | 3 | Bachelors       | Management     | No  | 3 | 1-2 Miles | North America | 38 | No  |\n",
       "| 1000 | 12121 | Single  | Male |  60000 | 3 | High School     | Professional   | Yes | 2 | 10+ Miles | North America | 53 | Yes |\n",
       "\n"
      ],
      "text/plain": [
       "     ID    Marital.Status Gender Income Children Education       Occupation    \n",
       "995  13466 Married        Male    80000 5        Partial College Professional  \n",
       "996  23731 Married        Male    60000 2        High School     Professional  \n",
       "997  28672 Single         Male    70000 4        Graduate Degree Professional  \n",
       "998  11809 Married                60000 2        Bachelors       Skilled Manual\n",
       "999  19664 Single         Male   100000 3        Bachelors       Management    \n",
       "1000 12121 Single         Male    60000 3        High School     Professional  \n",
       "     Home.Owner Cars Commute.Distance Region        Age Purchased.Bike\n",
       "995  Yes        3    1-2 Miles        North America 46  No            \n",
       "996  Yes        2    2-5 Miles        North America 54  Yes           \n",
       "997  Yes        0    2-5 Miles        North America 35  Yes           \n",
       "998  Yes        0    0-1 Miles        North America 38  Yes           \n",
       "999  No         3    1-2 Miles        North America 38  No            \n",
       "1000 Yes        2    10+ Miles        North America 53  Yes           "
      ]
     },
     "metadata": {},
     "output_type": "display_data"
    }
   ],
   "source": [
    "tail(bike_buyers)"
   ]
  },
  {
   "cell_type": "markdown",
   "id": "cdcac24e",
   "metadata": {},
   "source": [
    "### Display their Data Types"
   ]
  },
  {
   "cell_type": "code",
   "execution_count": 4,
   "id": "bb951f13",
   "metadata": {},
   "outputs": [
    {
     "data": {
      "text/html": [
       "'list'"
      ],
      "text/latex": [
       "'list'"
      ],
      "text/markdown": [
       "'list'"
      ],
      "text/plain": [
       "[1] \"list\""
      ]
     },
     "metadata": {},
     "output_type": "display_data"
    }
   ],
   "source": [
    "typeof(bike_buyers)"
   ]
  },
  {
   "cell_type": "code",
   "execution_count": 5,
   "id": "913b5db8",
   "metadata": {},
   "outputs": [
    {
     "data": {
      "text/html": [
       "'data.frame'"
      ],
      "text/latex": [
       "'data.frame'"
      ],
      "text/markdown": [
       "'data.frame'"
      ],
      "text/plain": [
       "[1] \"data.frame\""
      ]
     },
     "metadata": {},
     "output_type": "display_data"
    }
   ],
   "source": [
    "class(bike_buyers)"
   ]
  },
  {
   "cell_type": "code",
   "execution_count": 6,
   "id": "415d4a66",
   "metadata": {},
   "outputs": [
    {
     "name": "stdout",
     "output_type": "stream",
     "text": [
      "'data.frame':\t1000 obs. of  13 variables:\n",
      " $ ID              : int  12496 24107 14177 24381 25597 13507 27974 19364 22155 19280 ...\n",
      " $ Marital.Status  : chr  \"Married\" \"Married\" \"Married\" \"Single\" ...\n",
      " $ Gender          : chr  \"Female\" \"Male\" \"Male\" \"\" ...\n",
      " $ Income          : int  40000 30000 80000 70000 30000 10000 160000 40000 20000 NA ...\n",
      " $ Children        : int  1 3 5 0 0 2 2 1 2 2 ...\n",
      " $ Education       : chr  \"Bachelors\" \"Partial College\" \"Partial College\" \"Bachelors\" ...\n",
      " $ Occupation      : chr  \"Skilled Manual\" \"Clerical\" \"Professional\" \"Professional\" ...\n",
      " $ Home.Owner      : chr  \"Yes\" \"Yes\" \"No\" \"Yes\" ...\n",
      " $ Cars            : int  0 1 2 1 0 0 4 0 2 1 ...\n",
      " $ Commute.Distance: chr  \"0-1 Miles\" \"0-1 Miles\" \"2-5 Miles\" \"5-10 Miles\" ...\n",
      " $ Region          : chr  \"Europe\" \"Europe\" \"Europe\" \"Pacific\" ...\n",
      " $ Age             : int  42 43 60 41 36 50 33 43 58 NA ...\n",
      " $ Purchased.Bike  : chr  \"No\" \"No\" \"No\" \"Yes\" ...\n"
     ]
    }
   ],
   "source": [
    "str(bike_buyers)"
   ]
  },
  {
   "cell_type": "markdown",
   "id": "6af62096",
   "metadata": {},
   "source": [
    "### Display the Variable Names"
   ]
  },
  {
   "cell_type": "code",
   "execution_count": 7,
   "id": "7cda9184",
   "metadata": {},
   "outputs": [
    {
     "data": {
      "text/html": [
       "<style>\n",
       ".list-inline {list-style: none; margin:0; padding: 0}\n",
       ".list-inline>li {display: inline-block}\n",
       ".list-inline>li:not(:last-child)::after {content: \"\\00b7\"; padding: 0 .5ex}\n",
       "</style>\n",
       "<ol class=list-inline><li>'data.frame'</li><li>'list'</li><li>'oldClass'</li><li>'vector'</li><li>'listOrNULL'</li></ol>\n"
      ],
      "text/latex": [
       "\\begin{enumerate*}\n",
       "\\item 'data.frame'\n",
       "\\item 'list'\n",
       "\\item 'oldClass'\n",
       "\\item 'vector'\n",
       "\\item 'listOrNULL'\n",
       "\\end{enumerate*}\n"
      ],
      "text/markdown": [
       "1. 'data.frame'\n",
       "2. 'list'\n",
       "3. 'oldClass'\n",
       "4. 'vector'\n",
       "5. 'listOrNULL'\n",
       "\n",
       "\n"
      ],
      "text/plain": [
       "[1] \"data.frame\" \"list\"       \"oldClass\"   \"vector\"     \"listOrNULL\""
      ]
     },
     "metadata": {},
     "output_type": "display_data"
    }
   ],
   "source": [
    "is(bike_buyers)"
   ]
  },
  {
   "cell_type": "markdown",
   "id": "77325431",
   "metadata": {},
   "source": [
    "### Columns name"
   ]
  },
  {
   "cell_type": "code",
   "execution_count": 8,
   "id": "c33ae8e1",
   "metadata": {},
   "outputs": [
    {
     "name": "stdout",
     "output_type": "stream",
     "text": [
      " [1] \"ID\"               \"Marital.Status\"   \"Gender\"           \"Income\"          \n",
      " [5] \"Children\"         \"Education\"        \"Occupation\"       \"Home.Owner\"      \n",
      " [9] \"Cars\"             \"Commute.Distance\" \"Region\"           \"Age\"             \n",
      "[13] \"Purchased.Bike\"  \n"
     ]
    }
   ],
   "source": [
    "col=names(bike_buyers)\n",
    "print(col)"
   ]
  },
  {
   "cell_type": "code",
   "execution_count": 9,
   "id": "827a7ef4",
   "metadata": {},
   "outputs": [
    {
     "data": {
      "text/html": [
       "<style>\n",
       ".list-inline {list-style: none; margin:0; padding: 0}\n",
       ".list-inline>li {display: inline-block}\n",
       ".list-inline>li:not(:last-child)::after {content: \"\\00b7\"; padding: 0 .5ex}\n",
       "</style>\n",
       "<ol class=list-inline><li>'ID'</li><li>'Marital.Status'</li><li>'Gender'</li><li>'Income'</li><li>'Children'</li><li>'Education'</li><li>'Occupation'</li><li>'Home.Owner'</li><li>'Cars'</li><li>'Commute.Distance'</li><li>'Region'</li><li>'Age'</li><li>'Purchased.Bike'</li></ol>\n"
      ],
      "text/latex": [
       "\\begin{enumerate*}\n",
       "\\item 'ID'\n",
       "\\item 'Marital.Status'\n",
       "\\item 'Gender'\n",
       "\\item 'Income'\n",
       "\\item 'Children'\n",
       "\\item 'Education'\n",
       "\\item 'Occupation'\n",
       "\\item 'Home.Owner'\n",
       "\\item 'Cars'\n",
       "\\item 'Commute.Distance'\n",
       "\\item 'Region'\n",
       "\\item 'Age'\n",
       "\\item 'Purchased.Bike'\n",
       "\\end{enumerate*}\n"
      ],
      "text/markdown": [
       "1. 'ID'\n",
       "2. 'Marital.Status'\n",
       "3. 'Gender'\n",
       "4. 'Income'\n",
       "5. 'Children'\n",
       "6. 'Education'\n",
       "7. 'Occupation'\n",
       "8. 'Home.Owner'\n",
       "9. 'Cars'\n",
       "10. 'Commute.Distance'\n",
       "11. 'Region'\n",
       "12. 'Age'\n",
       "13. 'Purchased.Bike'\n",
       "\n",
       "\n"
      ],
      "text/plain": [
       " [1] \"ID\"               \"Marital.Status\"   \"Gender\"           \"Income\"          \n",
       " [5] \"Children\"         \"Education\"        \"Occupation\"       \"Home.Owner\"      \n",
       " [9] \"Cars\"             \"Commute.Distance\" \"Region\"           \"Age\"             \n",
       "[13] \"Purchased.Bike\"  "
      ]
     },
     "metadata": {},
     "output_type": "display_data"
    }
   ],
   "source": [
    "colnames(bike_buyers)"
   ]
  },
  {
   "cell_type": "markdown",
   "id": "a472c800",
   "metadata": {},
   "source": [
    "### structure of the dataframe"
   ]
  },
  {
   "cell_type": "code",
   "execution_count": 10,
   "id": "ef88411b",
   "metadata": {},
   "outputs": [
    {
     "data": {
      "text/plain": [
       "       ID        Marital.Status        Gender              Income      \n",
       " Min.   :11000   Length:1000        Length:1000        Min.   : 10000  \n",
       " 1st Qu.:15291   Class :character   Class :character   1st Qu.: 30000  \n",
       " Median :19744   Mode  :character   Mode  :character   Median : 60000  \n",
       " Mean   :19966                                         Mean   : 56268  \n",
       " 3rd Qu.:24471                                         3rd Qu.: 70000  \n",
       " Max.   :29447                                         Max.   :170000  \n",
       "                                                       NA's   :6       \n",
       "    Children     Education          Occupation         Home.Owner       \n",
       " Min.   :0.00   Length:1000        Length:1000        Length:1000       \n",
       " 1st Qu.:0.00   Class :character   Class :character   Class :character  \n",
       " Median :2.00   Mode  :character   Mode  :character   Mode  :character  \n",
       " Mean   :1.91                                                           \n",
       " 3rd Qu.:3.00                                                           \n",
       " Max.   :5.00                                                           \n",
       " NA's   :8                                                              \n",
       "      Cars       Commute.Distance      Region               Age       \n",
       " Min.   :0.000   Length:1000        Length:1000        Min.   :25.00  \n",
       " 1st Qu.:1.000   Class :character   Class :character   1st Qu.:35.00  \n",
       " Median :1.000   Mode  :character   Mode  :character   Median :43.00  \n",
       " Mean   :1.455                                         Mean   :44.18  \n",
       " 3rd Qu.:2.000                                         3rd Qu.:52.00  \n",
       " Max.   :4.000                                         Max.   :89.00  \n",
       " NA's   :9                                             NA's   :8      \n",
       " Purchased.Bike    \n",
       " Length:1000       \n",
       " Class :character  \n",
       " Mode  :character  \n",
       "                   \n",
       "                   \n",
       "                   \n",
       "                   "
      ]
     },
     "metadata": {},
     "output_type": "display_data"
    }
   ],
   "source": [
    "summary(bike_buyers)"
   ]
  },
  {
   "cell_type": "markdown",
   "id": "04e61f90",
   "metadata": {},
   "source": [
    "### Handling Duplicates"
   ]
  },
  {
   "cell_type": "code",
   "execution_count": 11,
   "id": "ffae6b2d",
   "metadata": {},
   "outputs": [
    {
     "data": {
      "text/html": [
       "0"
      ],
      "text/latex": [
       "0"
      ],
      "text/markdown": [
       "0"
      ],
      "text/plain": [
       "[1] 0"
      ]
     },
     "metadata": {},
     "output_type": "display_data"
    }
   ],
   "source": [
    "sum(duplicated(bike_buyers))"
   ]
  },
  {
   "cell_type": "markdown",
   "id": "238952e3",
   "metadata": {},
   "source": [
    "### Handling Empty cells"
   ]
  },
  {
   "cell_type": "code",
   "execution_count": 12,
   "id": "7b46e251",
   "metadata": {},
   "outputs": [
    {
     "data": {
      "text/html": [
       "<table class=\"dataframe\">\n",
       "<caption>A data.frame: 7 × 13</caption>\n",
       "<thead>\n",
       "\t<tr><th></th><th scope=col>ID</th><th scope=col>Marital.Status</th><th scope=col>Gender</th><th scope=col>Income</th><th scope=col>Children</th><th scope=col>Education</th><th scope=col>Occupation</th><th scope=col>Home.Owner</th><th scope=col>Cars</th><th scope=col>Commute.Distance</th><th scope=col>Region</th><th scope=col>Age</th><th scope=col>Purchased.Bike</th></tr>\n",
       "\t<tr><th></th><th scope=col>&lt;int&gt;</th><th scope=col>&lt;chr&gt;</th><th scope=col>&lt;chr&gt;</th><th scope=col>&lt;int&gt;</th><th scope=col>&lt;int&gt;</th><th scope=col>&lt;chr&gt;</th><th scope=col>&lt;chr&gt;</th><th scope=col>&lt;chr&gt;</th><th scope=col>&lt;int&gt;</th><th scope=col>&lt;chr&gt;</th><th scope=col>&lt;chr&gt;</th><th scope=col>&lt;int&gt;</th><th scope=col>&lt;chr&gt;</th></tr>\n",
       "</thead>\n",
       "<tbody>\n",
       "\t<tr><th scope=row>9</th><td>22155</td><td></td><td>Male  </td><td> 20000</td><td>2</td><td>Partial High School</td><td>Clerical      </td><td>Yes</td><td>2</td><td>5-10 Miles</td><td>Pacific</td><td>58</td><td>No </td></tr>\n",
       "\t<tr><th scope=row>28</th><td>18283</td><td></td><td>Female</td><td>100000</td><td>0</td><td>Bachelors          </td><td>Professional  </td><td>No </td><td>1</td><td>5-10 Miles</td><td>Pacific</td><td>40</td><td>No </td></tr>\n",
       "\t<tr><th scope=row>50</th><td>14939</td><td></td><td>Male  </td><td> 40000</td><td>0</td><td>Bachelors          </td><td>Clerical      </td><td>Yes</td><td>0</td><td>0-1 Miles </td><td>Europe </td><td>39</td><td>Yes</td></tr>\n",
       "\t<tr><th scope=row>99</th><td>19441</td><td></td><td>Male  </td><td> 40000</td><td>0</td><td>Graduate Degree    </td><td>Clerical      </td><td>Yes</td><td>0</td><td>0-1 Miles </td><td>Europe </td><td>NA</td><td>Yes</td></tr>\n",
       "\t<tr><th scope=row>151</th><td>26154</td><td></td><td>Male  </td><td> 60000</td><td>1</td><td>Partial College    </td><td>Skilled Manual</td><td>Yes</td><td>1</td><td>5-10 Miles</td><td>Pacific</td><td>43</td><td>Yes</td></tr>\n",
       "\t<tr><th scope=row>235</th><td>24611</td><td></td><td>Male  </td><td> 90000</td><td>0</td><td>Bachelors          </td><td>Professional  </td><td>No </td><td>4</td><td>10+ Miles </td><td>Pacific</td><td>35</td><td>Yes</td></tr>\n",
       "\t<tr><th scope=row>302</th><td>17926</td><td></td><td>Female</td><td>    NA</td><td>0</td><td>Bachelors          </td><td>Clerical      </td><td>No </td><td>0</td><td>0-1 Miles </td><td>Pacific</td><td>28</td><td>Yes</td></tr>\n",
       "</tbody>\n",
       "</table>\n"
      ],
      "text/latex": [
       "A data.frame: 7 × 13\n",
       "\\begin{tabular}{r|lllllllllllll}\n",
       "  & ID & Marital.Status & Gender & Income & Children & Education & Occupation & Home.Owner & Cars & Commute.Distance & Region & Age & Purchased.Bike\\\\\n",
       "  & <int> & <chr> & <chr> & <int> & <int> & <chr> & <chr> & <chr> & <int> & <chr> & <chr> & <int> & <chr>\\\\\n",
       "\\hline\n",
       "\t9 & 22155 &  & Male   &  20000 & 2 & Partial High School & Clerical       & Yes & 2 & 5-10 Miles & Pacific & 58 & No \\\\\n",
       "\t28 & 18283 &  & Female & 100000 & 0 & Bachelors           & Professional   & No  & 1 & 5-10 Miles & Pacific & 40 & No \\\\\n",
       "\t50 & 14939 &  & Male   &  40000 & 0 & Bachelors           & Clerical       & Yes & 0 & 0-1 Miles  & Europe  & 39 & Yes\\\\\n",
       "\t99 & 19441 &  & Male   &  40000 & 0 & Graduate Degree     & Clerical       & Yes & 0 & 0-1 Miles  & Europe  & NA & Yes\\\\\n",
       "\t151 & 26154 &  & Male   &  60000 & 1 & Partial College     & Skilled Manual & Yes & 1 & 5-10 Miles & Pacific & 43 & Yes\\\\\n",
       "\t235 & 24611 &  & Male   &  90000 & 0 & Bachelors           & Professional   & No  & 4 & 10+ Miles  & Pacific & 35 & Yes\\\\\n",
       "\t302 & 17926 &  & Female &     NA & 0 & Bachelors           & Clerical       & No  & 0 & 0-1 Miles  & Pacific & 28 & Yes\\\\\n",
       "\\end{tabular}\n"
      ],
      "text/markdown": [
       "\n",
       "A data.frame: 7 × 13\n",
       "\n",
       "| <!--/--> | ID &lt;int&gt; | Marital.Status &lt;chr&gt; | Gender &lt;chr&gt; | Income &lt;int&gt; | Children &lt;int&gt; | Education &lt;chr&gt; | Occupation &lt;chr&gt; | Home.Owner &lt;chr&gt; | Cars &lt;int&gt; | Commute.Distance &lt;chr&gt; | Region &lt;chr&gt; | Age &lt;int&gt; | Purchased.Bike &lt;chr&gt; |\n",
       "|---|---|---|---|---|---|---|---|---|---|---|---|---|---|\n",
       "| 9 | 22155 | <!----> | Male   |  20000 | 2 | Partial High School | Clerical       | Yes | 2 | 5-10 Miles | Pacific | 58 | No  |\n",
       "| 28 | 18283 | <!----> | Female | 100000 | 0 | Bachelors           | Professional   | No  | 1 | 5-10 Miles | Pacific | 40 | No  |\n",
       "| 50 | 14939 | <!----> | Male   |  40000 | 0 | Bachelors           | Clerical       | Yes | 0 | 0-1 Miles  | Europe  | 39 | Yes |\n",
       "| 99 | 19441 | <!----> | Male   |  40000 | 0 | Graduate Degree     | Clerical       | Yes | 0 | 0-1 Miles  | Europe  | NA | Yes |\n",
       "| 151 | 26154 | <!----> | Male   |  60000 | 1 | Partial College     | Skilled Manual | Yes | 1 | 5-10 Miles | Pacific | 43 | Yes |\n",
       "| 235 | 24611 | <!----> | Male   |  90000 | 0 | Bachelors           | Professional   | No  | 4 | 10+ Miles  | Pacific | 35 | Yes |\n",
       "| 302 | 17926 | <!----> | Female |     NA | 0 | Bachelors           | Clerical       | No  | 0 | 0-1 Miles  | Pacific | 28 | Yes |\n",
       "\n"
      ],
      "text/plain": [
       "    ID    Marital.Status Gender Income Children Education          \n",
       "9   22155                Male    20000 2        Partial High School\n",
       "28  18283                Female 100000 0        Bachelors          \n",
       "50  14939                Male    40000 0        Bachelors          \n",
       "99  19441                Male    40000 0        Graduate Degree    \n",
       "151 26154                Male    60000 1        Partial College    \n",
       "235 24611                Male    90000 0        Bachelors          \n",
       "302 17926                Female     NA 0        Bachelors          \n",
       "    Occupation     Home.Owner Cars Commute.Distance Region  Age Purchased.Bike\n",
       "9   Clerical       Yes        2    5-10 Miles       Pacific 58  No            \n",
       "28  Professional   No         1    5-10 Miles       Pacific 40  No            \n",
       "50  Clerical       Yes        0    0-1 Miles        Europe  39  Yes           \n",
       "99  Clerical       Yes        0    0-1 Miles        Europe  NA  Yes           \n",
       "151 Skilled Manual Yes        1    5-10 Miles       Pacific 43  Yes           \n",
       "235 Professional   No         4    10+ Miles        Pacific 35  Yes           \n",
       "302 Clerical       No         0    0-1 Miles        Pacific 28  Yes           "
      ]
     },
     "metadata": {},
     "output_type": "display_data"
    }
   ],
   "source": [
    "subset(bike_buyers, trimws(Marital.Status) == \"\")"
   ]
  },
  {
   "cell_type": "code",
   "execution_count": 13,
   "id": "dcbb2b84",
   "metadata": {},
   "outputs": [
    {
     "data": {
      "text/html": [
       "<table class=\"dataframe\">\n",
       "<caption>A data.frame: 11 × 13</caption>\n",
       "<thead>\n",
       "\t<tr><th></th><th scope=col>ID</th><th scope=col>Marital.Status</th><th scope=col>Gender</th><th scope=col>Income</th><th scope=col>Children</th><th scope=col>Education</th><th scope=col>Occupation</th><th scope=col>Home.Owner</th><th scope=col>Cars</th><th scope=col>Commute.Distance</th><th scope=col>Region</th><th scope=col>Age</th><th scope=col>Purchased.Bike</th></tr>\n",
       "\t<tr><th></th><th scope=col>&lt;int&gt;</th><th scope=col>&lt;chr&gt;</th><th scope=col>&lt;chr&gt;</th><th scope=col>&lt;int&gt;</th><th scope=col>&lt;int&gt;</th><th scope=col>&lt;chr&gt;</th><th scope=col>&lt;chr&gt;</th><th scope=col>&lt;chr&gt;</th><th scope=col>&lt;int&gt;</th><th scope=col>&lt;chr&gt;</th><th scope=col>&lt;chr&gt;</th><th scope=col>&lt;int&gt;</th><th scope=col>&lt;chr&gt;</th></tr>\n",
       "</thead>\n",
       "<tbody>\n",
       "\t<tr><th scope=row>4</th><td>24381</td><td>Single </td><td></td><td>70000</td><td> 0</td><td>Bachelors      </td><td>Professional  </td><td>Yes</td><td>1</td><td>5-10 Miles</td><td>Pacific      </td><td>41</td><td>Yes</td></tr>\n",
       "\t<tr><th scope=row>155</th><td>23426</td><td>Single </td><td></td><td>80000</td><td> 5</td><td>Graduate Degree</td><td>Management    </td><td>Yes</td><td>3</td><td>0-1 Miles </td><td>Pacific      </td><td>40</td><td>No </td></tr>\n",
       "\t<tr><th scope=row>336</th><td>24369</td><td>Married</td><td></td><td>80000</td><td> 5</td><td>Graduate Degree</td><td>Management    </td><td>No </td><td>2</td><td>0-1 Miles </td><td>Pacific      </td><td>39</td><td>No </td></tr>\n",
       "\t<tr><th scope=row>602</th><td>29231</td><td>Single </td><td></td><td>80000</td><td> 4</td><td>Partial College</td><td>Professional  </td><td>No </td><td>2</td><td>0-1 Miles </td><td>North America</td><td>43</td><td>No </td></tr>\n",
       "\t<tr><th scope=row>689</th><td>11699</td><td>Single </td><td></td><td>60000</td><td>NA</td><td>Bachelors      </td><td>Skilled Manual</td><td>No </td><td>2</td><td>0-1 Miles </td><td>North America</td><td>NA</td><td>No </td></tr>\n",
       "\t<tr><th scope=row>696</th><td>18390</td><td>Married</td><td></td><td>80000</td><td> 5</td><td>Partial College</td><td>Professional  </td><td>Yes</td><td>2</td><td>0-1 Miles </td><td>North America</td><td>44</td><td>No </td></tr>\n",
       "\t<tr><th scope=row>868</th><td>26693</td><td>Married</td><td></td><td>70000</td><td> 3</td><td>Partial College</td><td>Professional  </td><td>Yes</td><td>1</td><td>5-10 Miles</td><td>North America</td><td>49</td><td>No </td></tr>\n",
       "\t<tr><th scope=row>909</th><td>23195</td><td>Single </td><td></td><td>50000</td><td> 3</td><td>Bachelors      </td><td>Skilled Manual</td><td>Yes</td><td>2</td><td>2-5 Miles </td><td>North America</td><td>41</td><td>Yes</td></tr>\n",
       "\t<tr><th scope=row>952</th><td>22296</td><td>Married</td><td></td><td>70000</td><td> 0</td><td>Bachelors      </td><td>Professional  </td><td>No </td><td>1</td><td>0-1 Miles </td><td>North America</td><td>38</td><td>No </td></tr>\n",
       "\t<tr><th scope=row>974</th><td>11734</td><td>Married</td><td></td><td>60000</td><td> 1</td><td>Partial College</td><td>Skilled Manual</td><td>No </td><td>1</td><td>0-1 Miles </td><td>North America</td><td>47</td><td>No </td></tr>\n",
       "\t<tr><th scope=row>998</th><td>11809</td><td>Married</td><td></td><td>60000</td><td> 2</td><td>Bachelors      </td><td>Skilled Manual</td><td>Yes</td><td>0</td><td>0-1 Miles </td><td>North America</td><td>38</td><td>Yes</td></tr>\n",
       "</tbody>\n",
       "</table>\n"
      ],
      "text/latex": [
       "A data.frame: 11 × 13\n",
       "\\begin{tabular}{r|lllllllllllll}\n",
       "  & ID & Marital.Status & Gender & Income & Children & Education & Occupation & Home.Owner & Cars & Commute.Distance & Region & Age & Purchased.Bike\\\\\n",
       "  & <int> & <chr> & <chr> & <int> & <int> & <chr> & <chr> & <chr> & <int> & <chr> & <chr> & <int> & <chr>\\\\\n",
       "\\hline\n",
       "\t4 & 24381 & Single  &  & 70000 &  0 & Bachelors       & Professional   & Yes & 1 & 5-10 Miles & Pacific       & 41 & Yes\\\\\n",
       "\t155 & 23426 & Single  &  & 80000 &  5 & Graduate Degree & Management     & Yes & 3 & 0-1 Miles  & Pacific       & 40 & No \\\\\n",
       "\t336 & 24369 & Married &  & 80000 &  5 & Graduate Degree & Management     & No  & 2 & 0-1 Miles  & Pacific       & 39 & No \\\\\n",
       "\t602 & 29231 & Single  &  & 80000 &  4 & Partial College & Professional   & No  & 2 & 0-1 Miles  & North America & 43 & No \\\\\n",
       "\t689 & 11699 & Single  &  & 60000 & NA & Bachelors       & Skilled Manual & No  & 2 & 0-1 Miles  & North America & NA & No \\\\\n",
       "\t696 & 18390 & Married &  & 80000 &  5 & Partial College & Professional   & Yes & 2 & 0-1 Miles  & North America & 44 & No \\\\\n",
       "\t868 & 26693 & Married &  & 70000 &  3 & Partial College & Professional   & Yes & 1 & 5-10 Miles & North America & 49 & No \\\\\n",
       "\t909 & 23195 & Single  &  & 50000 &  3 & Bachelors       & Skilled Manual & Yes & 2 & 2-5 Miles  & North America & 41 & Yes\\\\\n",
       "\t952 & 22296 & Married &  & 70000 &  0 & Bachelors       & Professional   & No  & 1 & 0-1 Miles  & North America & 38 & No \\\\\n",
       "\t974 & 11734 & Married &  & 60000 &  1 & Partial College & Skilled Manual & No  & 1 & 0-1 Miles  & North America & 47 & No \\\\\n",
       "\t998 & 11809 & Married &  & 60000 &  2 & Bachelors       & Skilled Manual & Yes & 0 & 0-1 Miles  & North America & 38 & Yes\\\\\n",
       "\\end{tabular}\n"
      ],
      "text/markdown": [
       "\n",
       "A data.frame: 11 × 13\n",
       "\n",
       "| <!--/--> | ID &lt;int&gt; | Marital.Status &lt;chr&gt; | Gender &lt;chr&gt; | Income &lt;int&gt; | Children &lt;int&gt; | Education &lt;chr&gt; | Occupation &lt;chr&gt; | Home.Owner &lt;chr&gt; | Cars &lt;int&gt; | Commute.Distance &lt;chr&gt; | Region &lt;chr&gt; | Age &lt;int&gt; | Purchased.Bike &lt;chr&gt; |\n",
       "|---|---|---|---|---|---|---|---|---|---|---|---|---|---|\n",
       "| 4 | 24381 | Single  | <!----> | 70000 |  0 | Bachelors       | Professional   | Yes | 1 | 5-10 Miles | Pacific       | 41 | Yes |\n",
       "| 155 | 23426 | Single  | <!----> | 80000 |  5 | Graduate Degree | Management     | Yes | 3 | 0-1 Miles  | Pacific       | 40 | No  |\n",
       "| 336 | 24369 | Married | <!----> | 80000 |  5 | Graduate Degree | Management     | No  | 2 | 0-1 Miles  | Pacific       | 39 | No  |\n",
       "| 602 | 29231 | Single  | <!----> | 80000 |  4 | Partial College | Professional   | No  | 2 | 0-1 Miles  | North America | 43 | No  |\n",
       "| 689 | 11699 | Single  | <!----> | 60000 | NA | Bachelors       | Skilled Manual | No  | 2 | 0-1 Miles  | North America | NA | No  |\n",
       "| 696 | 18390 | Married | <!----> | 80000 |  5 | Partial College | Professional   | Yes | 2 | 0-1 Miles  | North America | 44 | No  |\n",
       "| 868 | 26693 | Married | <!----> | 70000 |  3 | Partial College | Professional   | Yes | 1 | 5-10 Miles | North America | 49 | No  |\n",
       "| 909 | 23195 | Single  | <!----> | 50000 |  3 | Bachelors       | Skilled Manual | Yes | 2 | 2-5 Miles  | North America | 41 | Yes |\n",
       "| 952 | 22296 | Married | <!----> | 70000 |  0 | Bachelors       | Professional   | No  | 1 | 0-1 Miles  | North America | 38 | No  |\n",
       "| 974 | 11734 | Married | <!----> | 60000 |  1 | Partial College | Skilled Manual | No  | 1 | 0-1 Miles  | North America | 47 | No  |\n",
       "| 998 | 11809 | Married | <!----> | 60000 |  2 | Bachelors       | Skilled Manual | Yes | 0 | 0-1 Miles  | North America | 38 | Yes |\n",
       "\n"
      ],
      "text/plain": [
       "    ID    Marital.Status Gender Income Children Education       Occupation    \n",
       "4   24381 Single                70000   0       Bachelors       Professional  \n",
       "155 23426 Single                80000   5       Graduate Degree Management    \n",
       "336 24369 Married               80000   5       Graduate Degree Management    \n",
       "602 29231 Single                80000   4       Partial College Professional  \n",
       "689 11699 Single                60000  NA       Bachelors       Skilled Manual\n",
       "696 18390 Married               80000   5       Partial College Professional  \n",
       "868 26693 Married               70000   3       Partial College Professional  \n",
       "909 23195 Single                50000   3       Bachelors       Skilled Manual\n",
       "952 22296 Married               70000   0       Bachelors       Professional  \n",
       "974 11734 Married               60000   1       Partial College Skilled Manual\n",
       "998 11809 Married               60000   2       Bachelors       Skilled Manual\n",
       "    Home.Owner Cars Commute.Distance Region        Age Purchased.Bike\n",
       "4   Yes        1    5-10 Miles       Pacific       41  Yes           \n",
       "155 Yes        3    0-1 Miles        Pacific       40  No            \n",
       "336 No         2    0-1 Miles        Pacific       39  No            \n",
       "602 No         2    0-1 Miles        North America 43  No            \n",
       "689 No         2    0-1 Miles        North America NA  No            \n",
       "696 Yes        2    0-1 Miles        North America 44  No            \n",
       "868 Yes        1    5-10 Miles       North America 49  No            \n",
       "909 Yes        2    2-5 Miles        North America 41  Yes           \n",
       "952 No         1    0-1 Miles        North America 38  No            \n",
       "974 No         1    0-1 Miles        North America 47  No            \n",
       "998 Yes        0    0-1 Miles        North America 38  Yes           "
      ]
     },
     "metadata": {},
     "output_type": "display_data"
    }
   ],
   "source": [
    "subset(bike_buyers, trimws(Gender) == \"\")"
   ]
  },
  {
   "cell_type": "code",
   "execution_count": 14,
   "id": "344435b4",
   "metadata": {},
   "outputs": [],
   "source": [
    "#as i can see that there are so many empty cells are present in the dataset, so going to replace all the empty cell with NA."
   ]
  },
  {
   "cell_type": "code",
   "execution_count": 15,
   "id": "5a7f1013",
   "metadata": {
    "scrolled": false
   },
   "outputs": [
    {
     "data": {
      "text/html": [
       "<table class=\"dataframe\">\n",
       "<caption>A data.frame: 6 × 13</caption>\n",
       "<thead>\n",
       "\t<tr><th></th><th scope=col>ID</th><th scope=col>Marital.Status</th><th scope=col>Gender</th><th scope=col>Income</th><th scope=col>Children</th><th scope=col>Education</th><th scope=col>Occupation</th><th scope=col>Home.Owner</th><th scope=col>Cars</th><th scope=col>Commute.Distance</th><th scope=col>Region</th><th scope=col>Age</th><th scope=col>Purchased.Bike</th></tr>\n",
       "\t<tr><th></th><th scope=col>&lt;int&gt;</th><th scope=col>&lt;chr&gt;</th><th scope=col>&lt;chr&gt;</th><th scope=col>&lt;int&gt;</th><th scope=col>&lt;int&gt;</th><th scope=col>&lt;chr&gt;</th><th scope=col>&lt;chr&gt;</th><th scope=col>&lt;chr&gt;</th><th scope=col>&lt;int&gt;</th><th scope=col>&lt;chr&gt;</th><th scope=col>&lt;chr&gt;</th><th scope=col>&lt;int&gt;</th><th scope=col>&lt;chr&gt;</th></tr>\n",
       "</thead>\n",
       "<tbody>\n",
       "\t<tr><th scope=row>1</th><td>12496</td><td>Married</td><td>Female</td><td>40000</td><td>1</td><td>Bachelors      </td><td>Skilled Manual</td><td>Yes</td><td>0</td><td>0-1 Miles </td><td>Europe </td><td>42</td><td>No </td></tr>\n",
       "\t<tr><th scope=row>2</th><td>24107</td><td>Married</td><td>Male  </td><td>30000</td><td>3</td><td>Partial College</td><td>Clerical      </td><td>Yes</td><td>1</td><td>0-1 Miles </td><td>Europe </td><td>43</td><td>No </td></tr>\n",
       "\t<tr><th scope=row>3</th><td>14177</td><td>Married</td><td>Male  </td><td>80000</td><td>5</td><td>Partial College</td><td>Professional  </td><td>No </td><td>2</td><td>2-5 Miles </td><td>Europe </td><td>60</td><td>No </td></tr>\n",
       "\t<tr><th scope=row>4</th><td>24381</td><td>Single </td><td>NA    </td><td>70000</td><td>0</td><td>Bachelors      </td><td>Professional  </td><td>Yes</td><td>1</td><td>5-10 Miles</td><td>Pacific</td><td>41</td><td>Yes</td></tr>\n",
       "\t<tr><th scope=row>5</th><td>25597</td><td>Single </td><td>Male  </td><td>30000</td><td>0</td><td>Bachelors      </td><td>Clerical      </td><td>No </td><td>0</td><td>0-1 Miles </td><td>Europe </td><td>36</td><td>Yes</td></tr>\n",
       "\t<tr><th scope=row>6</th><td>13507</td><td>Married</td><td>Female</td><td>10000</td><td>2</td><td>Partial College</td><td>Manual        </td><td>Yes</td><td>0</td><td>1-2 Miles </td><td>Europe </td><td>50</td><td>No </td></tr>\n",
       "</tbody>\n",
       "</table>\n"
      ],
      "text/latex": [
       "A data.frame: 6 × 13\n",
       "\\begin{tabular}{r|lllllllllllll}\n",
       "  & ID & Marital.Status & Gender & Income & Children & Education & Occupation & Home.Owner & Cars & Commute.Distance & Region & Age & Purchased.Bike\\\\\n",
       "  & <int> & <chr> & <chr> & <int> & <int> & <chr> & <chr> & <chr> & <int> & <chr> & <chr> & <int> & <chr>\\\\\n",
       "\\hline\n",
       "\t1 & 12496 & Married & Female & 40000 & 1 & Bachelors       & Skilled Manual & Yes & 0 & 0-1 Miles  & Europe  & 42 & No \\\\\n",
       "\t2 & 24107 & Married & Male   & 30000 & 3 & Partial College & Clerical       & Yes & 1 & 0-1 Miles  & Europe  & 43 & No \\\\\n",
       "\t3 & 14177 & Married & Male   & 80000 & 5 & Partial College & Professional   & No  & 2 & 2-5 Miles  & Europe  & 60 & No \\\\\n",
       "\t4 & 24381 & Single  & NA     & 70000 & 0 & Bachelors       & Professional   & Yes & 1 & 5-10 Miles & Pacific & 41 & Yes\\\\\n",
       "\t5 & 25597 & Single  & Male   & 30000 & 0 & Bachelors       & Clerical       & No  & 0 & 0-1 Miles  & Europe  & 36 & Yes\\\\\n",
       "\t6 & 13507 & Married & Female & 10000 & 2 & Partial College & Manual         & Yes & 0 & 1-2 Miles  & Europe  & 50 & No \\\\\n",
       "\\end{tabular}\n"
      ],
      "text/markdown": [
       "\n",
       "A data.frame: 6 × 13\n",
       "\n",
       "| <!--/--> | ID &lt;int&gt; | Marital.Status &lt;chr&gt; | Gender &lt;chr&gt; | Income &lt;int&gt; | Children &lt;int&gt; | Education &lt;chr&gt; | Occupation &lt;chr&gt; | Home.Owner &lt;chr&gt; | Cars &lt;int&gt; | Commute.Distance &lt;chr&gt; | Region &lt;chr&gt; | Age &lt;int&gt; | Purchased.Bike &lt;chr&gt; |\n",
       "|---|---|---|---|---|---|---|---|---|---|---|---|---|---|\n",
       "| 1 | 12496 | Married | Female | 40000 | 1 | Bachelors       | Skilled Manual | Yes | 0 | 0-1 Miles  | Europe  | 42 | No  |\n",
       "| 2 | 24107 | Married | Male   | 30000 | 3 | Partial College | Clerical       | Yes | 1 | 0-1 Miles  | Europe  | 43 | No  |\n",
       "| 3 | 14177 | Married | Male   | 80000 | 5 | Partial College | Professional   | No  | 2 | 2-5 Miles  | Europe  | 60 | No  |\n",
       "| 4 | 24381 | Single  | NA     | 70000 | 0 | Bachelors       | Professional   | Yes | 1 | 5-10 Miles | Pacific | 41 | Yes |\n",
       "| 5 | 25597 | Single  | Male   | 30000 | 0 | Bachelors       | Clerical       | No  | 0 | 0-1 Miles  | Europe  | 36 | Yes |\n",
       "| 6 | 13507 | Married | Female | 10000 | 2 | Partial College | Manual         | Yes | 0 | 1-2 Miles  | Europe  | 50 | No  |\n",
       "\n"
      ],
      "text/plain": [
       "  ID    Marital.Status Gender Income Children Education       Occupation    \n",
       "1 12496 Married        Female 40000  1        Bachelors       Skilled Manual\n",
       "2 24107 Married        Male   30000  3        Partial College Clerical      \n",
       "3 14177 Married        Male   80000  5        Partial College Professional  \n",
       "4 24381 Single         NA     70000  0        Bachelors       Professional  \n",
       "5 25597 Single         Male   30000  0        Bachelors       Clerical      \n",
       "6 13507 Married        Female 10000  2        Partial College Manual        \n",
       "  Home.Owner Cars Commute.Distance Region  Age Purchased.Bike\n",
       "1 Yes        0    0-1 Miles        Europe  42  No            \n",
       "2 Yes        1    0-1 Miles        Europe  43  No            \n",
       "3 No         2    2-5 Miles        Europe  60  No            \n",
       "4 Yes        1    5-10 Miles       Pacific 41  Yes           \n",
       "5 No         0    0-1 Miles        Europe  36  Yes           \n",
       "6 Yes        0    1-2 Miles        Europe  50  No            "
      ]
     },
     "metadata": {},
     "output_type": "display_data"
    }
   ],
   "source": [
    "bike_buyers = bike_buyers                            \n",
    "bike_buyers[bike_buyers == \"\"]=NA\n",
    "head(bike_buyers)"
   ]
  },
  {
   "cell_type": "code",
   "execution_count": 16,
   "id": "a3497401",
   "metadata": {},
   "outputs": [
    {
     "data": {
      "text/html": [
       "<table class=\"dataframe\">\n",
       "<caption>A data.frame: 0 × 13</caption>\n",
       "<thead>\n",
       "\t<tr><th scope=col>ID</th><th scope=col>Marital.Status</th><th scope=col>Gender</th><th scope=col>Income</th><th scope=col>Children</th><th scope=col>Education</th><th scope=col>Occupation</th><th scope=col>Home.Owner</th><th scope=col>Cars</th><th scope=col>Commute.Distance</th><th scope=col>Region</th><th scope=col>Age</th><th scope=col>Purchased.Bike</th></tr>\n",
       "\t<tr><th scope=col>&lt;int&gt;</th><th scope=col>&lt;chr&gt;</th><th scope=col>&lt;chr&gt;</th><th scope=col>&lt;int&gt;</th><th scope=col>&lt;int&gt;</th><th scope=col>&lt;chr&gt;</th><th scope=col>&lt;chr&gt;</th><th scope=col>&lt;chr&gt;</th><th scope=col>&lt;int&gt;</th><th scope=col>&lt;chr&gt;</th><th scope=col>&lt;chr&gt;</th><th scope=col>&lt;int&gt;</th><th scope=col>&lt;chr&gt;</th></tr>\n",
       "</thead>\n",
       "<tbody>\n",
       "</tbody>\n",
       "</table>\n"
      ],
      "text/latex": [
       "A data.frame: 0 × 13\n",
       "\\begin{tabular}{lllllllllllll}\n",
       " ID & Marital.Status & Gender & Income & Children & Education & Occupation & Home.Owner & Cars & Commute.Distance & Region & Age & Purchased.Bike\\\\\n",
       " <int> & <chr> & <chr> & <int> & <int> & <chr> & <chr> & <chr> & <int> & <chr> & <chr> & <int> & <chr>\\\\\n",
       "\\hline\n",
       "\\end{tabular}\n"
      ],
      "text/markdown": [
       "\n",
       "A data.frame: 0 × 13\n",
       "\n",
       "| ID &lt;int&gt; | Marital.Status &lt;chr&gt; | Gender &lt;chr&gt; | Income &lt;int&gt; | Children &lt;int&gt; | Education &lt;chr&gt; | Occupation &lt;chr&gt; | Home.Owner &lt;chr&gt; | Cars &lt;int&gt; | Commute.Distance &lt;chr&gt; | Region &lt;chr&gt; | Age &lt;int&gt; | Purchased.Bike &lt;chr&gt; |\n",
       "|---|---|---|---|---|---|---|---|---|---|---|---|---|\n",
       "\n"
      ],
      "text/plain": [
       "     ID Marital.Status Gender Income Children Education Occupation Home.Owner\n",
       "     Cars Commute.Distance Region Age Purchased.Bike"
      ]
     },
     "metadata": {},
     "output_type": "display_data"
    }
   ],
   "source": [
    "subset(bike_buyers, trimws(Marital.Status)=='')"
   ]
  },
  {
   "cell_type": "markdown",
   "id": "d4f7b489",
   "metadata": {},
   "source": [
    "### Handling null values"
   ]
  },
  {
   "cell_type": "code",
   "execution_count": 17,
   "id": "75e0331b",
   "metadata": {},
   "outputs": [
    {
     "data": {
      "text/html": [
       "53"
      ],
      "text/latex": [
       "53"
      ],
      "text/markdown": [
       "53"
      ],
      "text/plain": [
       "[1] 53"
      ]
     },
     "metadata": {},
     "output_type": "display_data"
    }
   ],
   "source": [
    "sum(is.na(bike_buyers))"
   ]
  },
  {
   "cell_type": "code",
   "execution_count": 18,
   "id": "755832d0",
   "metadata": {},
   "outputs": [
    {
     "name": "stdout",
     "output_type": "stream",
     "text": [
      "\n",
      "null values in ID = 0\n",
      "null values in Marital.Status = 7\n",
      "null values in Gender = 11\n",
      "null values in Income = 6\n",
      "null values in Children = 8\n",
      "null values in Education = 0\n",
      "null values in Occupation = 0\n",
      "null values in Home.Owner = 4\n",
      "null values in Cars = 9\n",
      "null values in Commute.Distance = 0\n",
      "null values in Region = 0\n",
      "null values in Age = 8\n",
      "null values in Purchased.Bike = 0"
     ]
    }
   ],
   "source": [
    "\n",
    "V1=colnames(bike_buyers)\n",
    "for(i in V1)\n",
    "{\n",
    "    cat(\"\\nnull values in\",i,\"=\",sum(is.na(bike_buyers[i])))\n",
    "}\n"
   ]
  },
  {
   "cell_type": "code",
   "execution_count": 19,
   "id": "6c42f318",
   "metadata": {},
   "outputs": [
    {
     "data": {
      "text/html": [
       "<style>\n",
       ".list-inline {list-style: none; margin:0; padding: 0}\n",
       ".list-inline>li {display: inline-block}\n",
       ".list-inline>li:not(:last-child)::after {content: \"\\00b7\"; padding: 0 .5ex}\n",
       "</style>\n",
       "<ol class=list-inline><li>10</li><li>111</li><li>192</li><li>302</li><li>442</li><li>510</li></ol>\n"
      ],
      "text/latex": [
       "\\begin{enumerate*}\n",
       "\\item 10\n",
       "\\item 111\n",
       "\\item 192\n",
       "\\item 302\n",
       "\\item 442\n",
       "\\item 510\n",
       "\\end{enumerate*}\n"
      ],
      "text/markdown": [
       "1. 10\n",
       "2. 111\n",
       "3. 192\n",
       "4. 302\n",
       "5. 442\n",
       "6. 510\n",
       "\n",
       "\n"
      ],
      "text/plain": [
       "[1]  10 111 192 302 442 510"
      ]
     },
     "metadata": {},
     "output_type": "display_data"
    }
   ],
   "source": [
    "which(is.na(bike_buyers$Income))"
   ]
  },
  {
   "cell_type": "code",
   "execution_count": 20,
   "id": "1af025ed",
   "metadata": {},
   "outputs": [
    {
     "data": {
      "text/html": [
       "<style>\n",
       ".list-inline {list-style: none; margin:0; padding: 0}\n",
       ".list-inline>li {display: inline-block}\n",
       ".list-inline>li:not(:last-child)::after {content: \"\\00b7\"; padding: 0 .5ex}\n",
       "</style>\n",
       "<ol class=list-inline><li>118</li><li>218</li><li>387</li><li>550</li><li>639</li><li>689</li><li>806</li><li>961</li></ol>\n"
      ],
      "text/latex": [
       "\\begin{enumerate*}\n",
       "\\item 118\n",
       "\\item 218\n",
       "\\item 387\n",
       "\\item 550\n",
       "\\item 639\n",
       "\\item 689\n",
       "\\item 806\n",
       "\\item 961\n",
       "\\end{enumerate*}\n"
      ],
      "text/markdown": [
       "1. 118\n",
       "2. 218\n",
       "3. 387\n",
       "4. 550\n",
       "5. 639\n",
       "6. 689\n",
       "7. 806\n",
       "8. 961\n",
       "\n",
       "\n"
      ],
      "text/plain": [
       "[1] 118 218 387 550 639 689 806 961"
      ]
     },
     "metadata": {},
     "output_type": "display_data"
    }
   ],
   "source": [
    "which(is.na(bike_buyers$Children))"
   ]
  },
  {
   "cell_type": "code",
   "execution_count": 21,
   "id": "6fad298f",
   "metadata": {},
   "outputs": [
    {
     "data": {
      "text/html": [
       "<style>\n",
       ".list-inline {list-style: none; margin:0; padding: 0}\n",
       ".list-inline>li {display: inline-block}\n",
       ".list-inline>li:not(:last-child)::after {content: \"\\00b7\"; padding: 0 .5ex}\n",
       "</style>\n",
       "<ol class=list-inline><li>13</li><li>197</li><li>203</li><li>352</li><li>449</li><li>512</li><li>562</li><li>616</li><li>934</li></ol>\n"
      ],
      "text/latex": [
       "\\begin{enumerate*}\n",
       "\\item 13\n",
       "\\item 197\n",
       "\\item 203\n",
       "\\item 352\n",
       "\\item 449\n",
       "\\item 512\n",
       "\\item 562\n",
       "\\item 616\n",
       "\\item 934\n",
       "\\end{enumerate*}\n"
      ],
      "text/markdown": [
       "1. 13\n",
       "2. 197\n",
       "3. 203\n",
       "4. 352\n",
       "5. 449\n",
       "6. 512\n",
       "7. 562\n",
       "8. 616\n",
       "9. 934\n",
       "\n",
       "\n"
      ],
      "text/plain": [
       "[1]  13 197 203 352 449 512 562 616 934"
      ]
     },
     "metadata": {},
     "output_type": "display_data"
    }
   ],
   "source": [
    "which(is.na(bike_buyers$Cars))"
   ]
  },
  {
   "cell_type": "code",
   "execution_count": 22,
   "id": "04a95504",
   "metadata": {},
   "outputs": [
    {
     "data": {
      "text/html": [
       "<style>\n",
       ".list-inline {list-style: none; margin:0; padding: 0}\n",
       ".list-inline>li {display: inline-block}\n",
       ".list-inline>li:not(:last-child)::after {content: \"\\00b7\"; padding: 0 .5ex}\n",
       "</style>\n",
       "<ol class=list-inline><li>10</li><li>99</li><li>226</li><li>372</li><li>555</li><li>689</li><li>771</li><li>987</li></ol>\n"
      ],
      "text/latex": [
       "\\begin{enumerate*}\n",
       "\\item 10\n",
       "\\item 99\n",
       "\\item 226\n",
       "\\item 372\n",
       "\\item 555\n",
       "\\item 689\n",
       "\\item 771\n",
       "\\item 987\n",
       "\\end{enumerate*}\n"
      ],
      "text/markdown": [
       "1. 10\n",
       "2. 99\n",
       "3. 226\n",
       "4. 372\n",
       "5. 555\n",
       "6. 689\n",
       "7. 771\n",
       "8. 987\n",
       "\n",
       "\n"
      ],
      "text/plain": [
       "[1]  10  99 226 372 555 689 771 987"
      ]
     },
     "metadata": {},
     "output_type": "display_data"
    }
   ],
   "source": [
    "which(is.na(bike_buyers$Age))"
   ]
  },
  {
   "cell_type": "code",
   "execution_count": 23,
   "id": "4a5be392",
   "metadata": {},
   "outputs": [
    {
     "name": "stdout",
     "output_type": "stream",
     "text": [
      "'data.frame':\t1000 obs. of  13 variables:\n",
      " $ ID              : int  12496 24107 14177 24381 25597 13507 27974 19364 22155 19280 ...\n",
      " $ Marital.Status  : chr  \"Married\" \"Married\" \"Married\" \"Single\" ...\n",
      " $ Gender          : chr  \"Female\" \"Male\" \"Male\" NA ...\n",
      " $ Income          : int  40000 30000 80000 70000 30000 10000 160000 40000 20000 NA ...\n",
      " $ Children        : int  1 3 5 0 0 2 2 1 2 2 ...\n",
      " $ Education       : chr  \"Bachelors\" \"Partial College\" \"Partial College\" \"Bachelors\" ...\n",
      " $ Occupation      : chr  \"Skilled Manual\" \"Clerical\" \"Professional\" \"Professional\" ...\n",
      " $ Home.Owner      : chr  \"Yes\" \"Yes\" \"No\" \"Yes\" ...\n",
      " $ Cars            : int  0 1 2 1 0 0 4 0 2 1 ...\n",
      " $ Commute.Distance: chr  \"0-1 Miles\" \"0-1 Miles\" \"2-5 Miles\" \"5-10 Miles\" ...\n",
      " $ Region          : chr  \"Europe\" \"Europe\" \"Europe\" \"Pacific\" ...\n",
      " $ Age             : int  42 43 60 41 36 50 33 43 58 NA ...\n",
      " $ Purchased.Bike  : chr  \"No\" \"No\" \"No\" \"Yes\" ...\n"
     ]
    }
   ],
   "source": [
    "str(bike_buyers)"
   ]
  },
  {
   "cell_type": "code",
   "execution_count": 24,
   "id": "ac9b36bc",
   "metadata": {},
   "outputs": [
    {
     "name": "stdout",
     "output_type": "stream",
     "text": [
      "[1] NA\n"
     ]
    }
   ],
   "source": [
    "m=mean(bike_buyers$Income)\n",
    "print(m)"
   ]
  },
  {
   "cell_type": "code",
   "execution_count": 25,
   "id": "8570056b",
   "metadata": {},
   "outputs": [
    {
     "name": "stdout",
     "output_type": "stream",
     "text": [
      "[1] 56267.61\n"
     ]
    }
   ],
   "source": [
    "m=mean(bike_buyers$Income,na.rm=TRUE)\n",
    "print(m)\n",
    "\n",
    "bike_buyers$Income[is.na(bike_buyers$Income)]=m"
   ]
  },
  {
   "cell_type": "code",
   "execution_count": 26,
   "id": "0c8fa0fe",
   "metadata": {},
   "outputs": [
    {
     "name": "stdout",
     "output_type": "stream",
     "text": [
      "[1] NA\n"
     ]
    }
   ],
   "source": [
    "m=mean(bike_buyers$Children)\n",
    "print(m)"
   ]
  },
  {
   "cell_type": "code",
   "execution_count": 27,
   "id": "10f05f91",
   "metadata": {},
   "outputs": [
    {
     "name": "stdout",
     "output_type": "stream",
     "text": [
      "[1] 1.910282\n"
     ]
    }
   ],
   "source": [
    "m=mean(bike_buyers$Children,na.rm=TRUE)\n",
    "print(m)\n",
    "\n",
    "bike_buyers$Children[is.na(bike_buyers$Children)]=m"
   ]
  },
  {
   "cell_type": "code",
   "execution_count": 28,
   "id": "4075fffe",
   "metadata": {},
   "outputs": [
    {
     "name": "stdout",
     "output_type": "stream",
     "text": [
      "[1] NA\n"
     ]
    }
   ],
   "source": [
    "m=mean(bike_buyers$Cars)\n",
    "print(m)"
   ]
  },
  {
   "cell_type": "code",
   "execution_count": 29,
   "id": "a3f540e1",
   "metadata": {},
   "outputs": [
    {
     "name": "stdout",
     "output_type": "stream",
     "text": [
      "[1] 1.455096\n"
     ]
    }
   ],
   "source": [
    "m=mean(bike_buyers$Cars,na.rm=TRUE)\n",
    "print(m)\n",
    "\n",
    "bike_buyers$Cars[is.na(bike_buyers$Cars)]=m"
   ]
  },
  {
   "cell_type": "code",
   "execution_count": 30,
   "id": "00202e1a",
   "metadata": {},
   "outputs": [
    {
     "name": "stdout",
     "output_type": "stream",
     "text": [
      "[1] NA\n"
     ]
    }
   ],
   "source": [
    "m=mean(bike_buyers$Age)\n",
    "print(m)"
   ]
  },
  {
   "cell_type": "code",
   "execution_count": 31,
   "id": "1971143f",
   "metadata": {},
   "outputs": [
    {
     "name": "stdout",
     "output_type": "stream",
     "text": [
      "[1] 44.18145\n"
     ]
    }
   ],
   "source": [
    "m=mean(bike_buyers$Age,na.rm=TRUE)\n",
    "print(m)\n",
    "\n",
    "bike_buyers$Age[is.na(bike_buyers$Age)]=m"
   ]
  },
  {
   "cell_type": "code",
   "execution_count": 32,
   "id": "9e48afac",
   "metadata": {},
   "outputs": [
    {
     "data": {
      "text/html": [
       "22"
      ],
      "text/latex": [
       "22"
      ],
      "text/markdown": [
       "22"
      ],
      "text/plain": [
       "[1] 22"
      ]
     },
     "metadata": {},
     "output_type": "display_data"
    }
   ],
   "source": [
    "sum(is.na(bike_buyers))"
   ]
  },
  {
   "cell_type": "markdown",
   "id": "2b0d8c46",
   "metadata": {},
   "source": [
    "### Mode function\n",
    "Since mode is not an inbuilt function in R, we write a function which calculates the maximum frequency of unique values in every column."
   ]
  },
  {
   "cell_type": "code",
   "execution_count": 33,
   "id": "017b8685",
   "metadata": {},
   "outputs": [],
   "source": [
    "get_mode=function(x) {                 \n",
    "  unique_x=unique(x)\n",
    "  tabulate_x = tabulate(match(x, unique_x))\n",
    "  unique_x[tabulate_x == max(tabulate_x)]\n",
    "}"
   ]
  },
  {
   "cell_type": "code",
   "execution_count": 34,
   "id": "249ef56c",
   "metadata": {},
   "outputs": [],
   "source": [
    "# Marital Status replaced with Mode\n",
    "bike_buyers$Marital.Status[is.na(bike_buyers$Marital.Status)]=get_mode(bike_buyers$Marital.Status)"
   ]
  },
  {
   "cell_type": "code",
   "execution_count": 35,
   "id": "d2551df1",
   "metadata": {},
   "outputs": [],
   "source": [
    "# Gender replaced with Mode\n",
    "bike_buyers$Gender[is.na(bike_buyers$Gender)]=get_mode(bike_buyers$Gender)"
   ]
  },
  {
   "cell_type": "code",
   "execution_count": 36,
   "id": "ec5d474d",
   "metadata": {},
   "outputs": [],
   "source": [
    "# Home Owner replaced with Mode\n",
    "bike_buyers$Home.Owner[is.na(bike_buyers$Home.Owner)]=get_mode(bike_buyers$Home.Owner)"
   ]
  },
  {
   "cell_type": "code",
   "execution_count": 37,
   "id": "6dc4eed2",
   "metadata": {},
   "outputs": [
    {
     "data": {
      "text/html": [
       "<style>\n",
       ".dl-inline {width: auto; margin:0; padding: 0}\n",
       ".dl-inline>dt, .dl-inline>dd {float: none; width: auto; display: inline-block}\n",
       ".dl-inline>dt::after {content: \":\\0020\"; padding-right: .5ex}\n",
       ".dl-inline>dt:not(:first-of-type) {padding-left: .5ex}\n",
       "</style><dl class=dl-inline><dt>ID</dt><dd>0</dd><dt>Marital.Status</dt><dd>0</dd><dt>Gender</dt><dd>0</dd><dt>Income</dt><dd>0</dd><dt>Children</dt><dd>0</dd><dt>Education</dt><dd>0</dd><dt>Occupation</dt><dd>0</dd><dt>Home.Owner</dt><dd>0</dd><dt>Cars</dt><dd>0</dd><dt>Commute.Distance</dt><dd>0</dd><dt>Region</dt><dd>0</dd><dt>Age</dt><dd>0</dd><dt>Purchased.Bike</dt><dd>0</dd></dl>\n"
      ],
      "text/latex": [
       "\\begin{description*}\n",
       "\\item[ID] 0\n",
       "\\item[Marital.Status] 0\n",
       "\\item[Gender] 0\n",
       "\\item[Income] 0\n",
       "\\item[Children] 0\n",
       "\\item[Education] 0\n",
       "\\item[Occupation] 0\n",
       "\\item[Home.Owner] 0\n",
       "\\item[Cars] 0\n",
       "\\item[Commute.Distance] 0\n",
       "\\item[Region] 0\n",
       "\\item[Age] 0\n",
       "\\item[Purchased.Bike] 0\n",
       "\\end{description*}\n"
      ],
      "text/markdown": [
       "ID\n",
       ":   0Marital.Status\n",
       ":   0Gender\n",
       ":   0Income\n",
       ":   0Children\n",
       ":   0Education\n",
       ":   0Occupation\n",
       ":   0Home.Owner\n",
       ":   0Cars\n",
       ":   0Commute.Distance\n",
       ":   0Region\n",
       ":   0Age\n",
       ":   0Purchased.Bike\n",
       ":   0\n",
       "\n"
      ],
      "text/plain": [
       "              ID   Marital.Status           Gender           Income \n",
       "               0                0                0                0 \n",
       "        Children        Education       Occupation       Home.Owner \n",
       "               0                0                0                0 \n",
       "            Cars Commute.Distance           Region              Age \n",
       "               0                0                0                0 \n",
       "  Purchased.Bike \n",
       "               0 "
      ]
     },
     "metadata": {},
     "output_type": "display_data"
    }
   ],
   "source": [
    "colSums(is.na(bike_buyers))"
   ]
  },
  {
   "cell_type": "code",
   "execution_count": 38,
   "id": "40ecebdd",
   "metadata": {},
   "outputs": [
    {
     "name": "stdout",
     "output_type": "stream",
     "text": [
      "\n",
      "null values in ID = 0\n",
      "null values in Marital.Status = 0\n",
      "null values in Gender = 0\n",
      "null values in Income = 0\n",
      "null values in Children = 0\n",
      "null values in Education = 0\n",
      "null values in Occupation = 0\n",
      "null values in Home.Owner = 0\n",
      "null values in Cars = 0\n",
      "null values in Commute.Distance = 0\n",
      "null values in Region = 0\n",
      "null values in Age = 0\n",
      "null values in Purchased.Bike = 0"
     ]
    }
   ],
   "source": [
    "\n",
    "V1=colnames(bike_buyers)\n",
    "for(i in V1)\n",
    "{\n",
    "    cat(\"\\nnull values in\",i,\"=\",sum(is.na(bike_buyers[i])))\n",
    "}\n"
   ]
  },
  {
   "cell_type": "markdown",
   "id": "6ebab14a",
   "metadata": {},
   "source": [
    "### Handling Outliers\n",
    "\n",
    "\n",
    "### Removing Income Outlier"
   ]
  },
  {
   "cell_type": "code",
   "execution_count": 39,
   "id": "8e37fc09",
   "metadata": {},
   "outputs": [
    {
     "data": {
      "image/png": "[encoded data removed]",
      "text/plain": [
       "plot without title"
      ]
     },
     "metadata": {
      "image/png": {
       "height": 420,
       "width": 420
      }
     },
     "output_type": "display_data"
    }
   ],
   "source": [
    "ggplot(data=bike_buyers,aes(x=Income))+geom_boxplot()"
   ]
  },
  {
   "cell_type": "code",
   "execution_count": 40,
   "id": "bd315ebf",
   "metadata": {},
   "outputs": [
    {
     "data": {
      "text/html": [
       "<table class=\"dataframe\">\n",
       "<caption>A data.frame: 10 × 13</caption>\n",
       "<thead>\n",
       "\t<tr><th scope=col>ID</th><th scope=col>Marital.Status</th><th scope=col>Gender</th><th scope=col>Income</th><th scope=col>Children</th><th scope=col>Education</th><th scope=col>Occupation</th><th scope=col>Home.Owner</th><th scope=col>Cars</th><th scope=col>Commute.Distance</th><th scope=col>Region</th><th scope=col>Age</th><th scope=col>Purchased.Bike</th></tr>\n",
       "\t<tr><th scope=col>&lt;int&gt;</th><th scope=col>&lt;chr&gt;</th><th scope=col>&lt;chr&gt;</th><th scope=col>&lt;dbl&gt;</th><th scope=col>&lt;dbl&gt;</th><th scope=col>&lt;chr&gt;</th><th scope=col>&lt;chr&gt;</th><th scope=col>&lt;chr&gt;</th><th scope=col>&lt;dbl&gt;</th><th scope=col>&lt;chr&gt;</th><th scope=col>&lt;chr&gt;</th><th scope=col>&lt;dbl&gt;</th><th scope=col>&lt;chr&gt;</th></tr>\n",
       "</thead>\n",
       "<tbody>\n",
       "\t<tr><td>27974</td><td>Single </td><td>Male  </td><td>160000</td><td>2</td><td>High School    </td><td>Management  </td><td>Yes</td><td>4.000000</td><td>0-1 Miles </td><td>Pacific      </td><td>33</td><td>Yes</td></tr>\n",
       "\t<tr><td>11434</td><td>Married</td><td>Male  </td><td>170000</td><td>5</td><td>Partial College</td><td>Professional</td><td>Yes</td><td>1.455096</td><td>0-1 Miles </td><td>Europe       </td><td>55</td><td>No </td></tr>\n",
       "\t<tr><td>17185</td><td>Married</td><td>Female</td><td>170000</td><td>4</td><td>Partial College</td><td>Professional</td><td>No </td><td>3.000000</td><td>5-10 Miles</td><td>Europe       </td><td>48</td><td>Yes</td></tr>\n",
       "\t<tr><td>15922</td><td>Married</td><td>Male  </td><td>150000</td><td>2</td><td>High School    </td><td>Professional</td><td>Yes</td><td>4.000000</td><td>0-1 Miles </td><td>Europe       </td><td>48</td><td>No </td></tr>\n",
       "\t<tr><td>14191</td><td>Married</td><td>Male  </td><td>160000</td><td>4</td><td>Partial College</td><td>Professional</td><td>No </td><td>2.000000</td><td>10+ Miles </td><td>Europe       </td><td>55</td><td>Yes</td></tr>\n",
       "\t<tr><td>12705</td><td>Married</td><td>Male  </td><td>150000</td><td>0</td><td>Bachelors      </td><td>Management  </td><td>Yes</td><td>4.000000</td><td>0-1 Miles </td><td>Pacific      </td><td>37</td><td>Yes</td></tr>\n",
       "\t<tr><td>16675</td><td>Single </td><td>Female</td><td>160000</td><td>0</td><td>Graduate Degree</td><td>Management  </td><td>No </td><td>3.000000</td><td>0-1 Miles </td><td>Pacific      </td><td>47</td><td>Yes</td></tr>\n",
       "\t<tr><td>23608</td><td>Married</td><td>Female</td><td>150000</td><td>3</td><td>High School    </td><td>Professional</td><td>Yes</td><td>3.000000</td><td>0-1 Miles </td><td>Europe       </td><td>51</td><td>Yes</td></tr>\n",
       "\t<tr><td>16009</td><td>Single </td><td>Male  </td><td>170000</td><td>1</td><td>Graduate Degree</td><td>Management  </td><td>No </td><td>4.000000</td><td>0-1 Miles </td><td>North America</td><td>66</td><td>No </td></tr>\n",
       "\t<tr><td>11292</td><td>Single </td><td>Male  </td><td>150000</td><td>1</td><td>Partial College</td><td>Professional</td><td>No </td><td>3.000000</td><td>0-1 Miles </td><td>North America</td><td>44</td><td>Yes</td></tr>\n",
       "</tbody>\n",
       "</table>\n"
      ],
      "text/latex": [
       "A data.frame: 10 × 13\n",
       "\\begin{tabular}{lllllllllllll}\n",
       " ID & Marital.Status & Gender & Income & Children & Education & Occupation & Home.Owner & Cars & Commute.Distance & Region & Age & Purchased.Bike\\\\\n",
       " <int> & <chr> & <chr> & <dbl> & <dbl> & <chr> & <chr> & <chr> & <dbl> & <chr> & <chr> & <dbl> & <chr>\\\\\n",
       "\\hline\n",
       "\t 27974 & Single  & Male   & 160000 & 2 & High School     & Management   & Yes & 4.000000 & 0-1 Miles  & Pacific       & 33 & Yes\\\\\n",
       "\t 11434 & Married & Male   & 170000 & 5 & Partial College & Professional & Yes & 1.455096 & 0-1 Miles  & Europe        & 55 & No \\\\\n",
       "\t 17185 & Married & Female & 170000 & 4 & Partial College & Professional & No  & 3.000000 & 5-10 Miles & Europe        & 48 & Yes\\\\\n",
       "\t 15922 & Married & Male   & 150000 & 2 & High School     & Professional & Yes & 4.000000 & 0-1 Miles  & Europe        & 48 & No \\\\\n",
       "\t 14191 & Married & Male   & 160000 & 4 & Partial College & Professional & No  & 2.000000 & 10+ Miles  & Europe        & 55 & Yes\\\\\n",
       "\t 12705 & Married & Male   & 150000 & 0 & Bachelors       & Management   & Yes & 4.000000 & 0-1 Miles  & Pacific       & 37 & Yes\\\\\n",
       "\t 16675 & Single  & Female & 160000 & 0 & Graduate Degree & Management   & No  & 3.000000 & 0-1 Miles  & Pacific       & 47 & Yes\\\\\n",
       "\t 23608 & Married & Female & 150000 & 3 & High School     & Professional & Yes & 3.000000 & 0-1 Miles  & Europe        & 51 & Yes\\\\\n",
       "\t 16009 & Single  & Male   & 170000 & 1 & Graduate Degree & Management   & No  & 4.000000 & 0-1 Miles  & North America & 66 & No \\\\\n",
       "\t 11292 & Single  & Male   & 150000 & 1 & Partial College & Professional & No  & 3.000000 & 0-1 Miles  & North America & 44 & Yes\\\\\n",
       "\\end{tabular}\n"
      ],
      "text/markdown": [
       "\n",
       "A data.frame: 10 × 13\n",
       "\n",
       "| ID &lt;int&gt; | Marital.Status &lt;chr&gt; | Gender &lt;chr&gt; | Income &lt;dbl&gt; | Children &lt;dbl&gt; | Education &lt;chr&gt; | Occupation &lt;chr&gt; | Home.Owner &lt;chr&gt; | Cars &lt;dbl&gt; | Commute.Distance &lt;chr&gt; | Region &lt;chr&gt; | Age &lt;dbl&gt; | Purchased.Bike &lt;chr&gt; |\n",
       "|---|---|---|---|---|---|---|---|---|---|---|---|---|\n",
       "| 27974 | Single  | Male   | 160000 | 2 | High School     | Management   | Yes | 4.000000 | 0-1 Miles  | Pacific       | 33 | Yes |\n",
       "| 11434 | Married | Male   | 170000 | 5 | Partial College | Professional | Yes | 1.455096 | 0-1 Miles  | Europe        | 55 | No  |\n",
       "| 17185 | Married | Female | 170000 | 4 | Partial College | Professional | No  | 3.000000 | 5-10 Miles | Europe        | 48 | Yes |\n",
       "| 15922 | Married | Male   | 150000 | 2 | High School     | Professional | Yes | 4.000000 | 0-1 Miles  | Europe        | 48 | No  |\n",
       "| 14191 | Married | Male   | 160000 | 4 | Partial College | Professional | No  | 2.000000 | 10+ Miles  | Europe        | 55 | Yes |\n",
       "| 12705 | Married | Male   | 150000 | 0 | Bachelors       | Management   | Yes | 4.000000 | 0-1 Miles  | Pacific       | 37 | Yes |\n",
       "| 16675 | Single  | Female | 160000 | 0 | Graduate Degree | Management   | No  | 3.000000 | 0-1 Miles  | Pacific       | 47 | Yes |\n",
       "| 23608 | Married | Female | 150000 | 3 | High School     | Professional | Yes | 3.000000 | 0-1 Miles  | Europe        | 51 | Yes |\n",
       "| 16009 | Single  | Male   | 170000 | 1 | Graduate Degree | Management   | No  | 4.000000 | 0-1 Miles  | North America | 66 | No  |\n",
       "| 11292 | Single  | Male   | 150000 | 1 | Partial College | Professional | No  | 3.000000 | 0-1 Miles  | North America | 44 | Yes |\n",
       "\n"
      ],
      "text/plain": [
       "   ID    Marital.Status Gender Income Children Education       Occupation  \n",
       "1  27974 Single         Male   160000 2        High School     Management  \n",
       "2  11434 Married        Male   170000 5        Partial College Professional\n",
       "3  17185 Married        Female 170000 4        Partial College Professional\n",
       "4  15922 Married        Male   150000 2        High School     Professional\n",
       "5  14191 Married        Male   160000 4        Partial College Professional\n",
       "6  12705 Married        Male   150000 0        Bachelors       Management  \n",
       "7  16675 Single         Female 160000 0        Graduate Degree Management  \n",
       "8  23608 Married        Female 150000 3        High School     Professional\n",
       "9  16009 Single         Male   170000 1        Graduate Degree Management  \n",
       "10 11292 Single         Male   150000 1        Partial College Professional\n",
       "   Home.Owner Cars     Commute.Distance Region        Age Purchased.Bike\n",
       "1  Yes        4.000000 0-1 Miles        Pacific       33  Yes           \n",
       "2  Yes        1.455096 0-1 Miles        Europe        55  No            \n",
       "3  No         3.000000 5-10 Miles       Europe        48  Yes           \n",
       "4  Yes        4.000000 0-1 Miles        Europe        48  No            \n",
       "5  No         2.000000 10+ Miles        Europe        55  Yes           \n",
       "6  Yes        4.000000 0-1 Miles        Pacific       37  Yes           \n",
       "7  No         3.000000 0-1 Miles        Pacific       47  Yes           \n",
       "8  Yes        3.000000 0-1 Miles        Europe        51  Yes           \n",
       "9  No         4.000000 0-1 Miles        North America 66  No            \n",
       "10 No         3.000000 0-1 Miles        North America 44  Yes           "
      ]
     },
     "metadata": {},
     "output_type": "display_data"
    },
    {
     "data": {
      "text/html": [
       "<style>\n",
       ".list-inline {list-style: none; margin:0; padding: 0}\n",
       ".list-inline>li {display: inline-block}\n",
       ".list-inline>li:not(:last-child)::after {content: \"\\00b7\"; padding: 0 .5ex}\n",
       "</style>\n",
       "<ol class=list-inline><li>7</li><li>13</li><li>44</li><li>122</li><li>179</li><li>260</li><li>322</li><li>357</li><li>830</li><li>994</li></ol>\n"
      ],
      "text/latex": [
       "\\begin{enumerate*}\n",
       "\\item 7\n",
       "\\item 13\n",
       "\\item 44\n",
       "\\item 122\n",
       "\\item 179\n",
       "\\item 260\n",
       "\\item 322\n",
       "\\item 357\n",
       "\\item 830\n",
       "\\item 994\n",
       "\\end{enumerate*}\n"
      ],
      "text/markdown": [
       "1. 7\n",
       "2. 13\n",
       "3. 44\n",
       "4. 122\n",
       "5. 179\n",
       "6. 260\n",
       "7. 322\n",
       "8. 357\n",
       "9. 830\n",
       "10. 994\n",
       "\n",
       "\n"
      ],
      "text/plain": [
       " [1]   7  13  44 122 179 260 322 357 830 994"
      ]
     },
     "metadata": {},
     "output_type": "display_data"
    }
   ],
   "source": [
    "#to exctract those rows whose Income>140000\n",
    "filter(bike_buyers,Income>140000)\n",
    "which(bike_buyers['Income']>140000)"
   ]
  },
  {
   "cell_type": "code",
   "execution_count": 41,
   "id": "9d005fc9",
   "metadata": {
    "scrolled": false
   },
   "outputs": [
    {
     "data": {
      "text/html": [
       "<table class=\"dataframe\">\n",
       "<caption>A data.frame: 6 × 13</caption>\n",
       "<thead>\n",
       "\t<tr><th></th><th scope=col>ID</th><th scope=col>Marital.Status</th><th scope=col>Gender</th><th scope=col>Income</th><th scope=col>Children</th><th scope=col>Education</th><th scope=col>Occupation</th><th scope=col>Home.Owner</th><th scope=col>Cars</th><th scope=col>Commute.Distance</th><th scope=col>Region</th><th scope=col>Age</th><th scope=col>Purchased.Bike</th></tr>\n",
       "\t<tr><th></th><th scope=col>&lt;int&gt;</th><th scope=col>&lt;chr&gt;</th><th scope=col>&lt;chr&gt;</th><th scope=col>&lt;dbl&gt;</th><th scope=col>&lt;dbl&gt;</th><th scope=col>&lt;chr&gt;</th><th scope=col>&lt;chr&gt;</th><th scope=col>&lt;chr&gt;</th><th scope=col>&lt;dbl&gt;</th><th scope=col>&lt;chr&gt;</th><th scope=col>&lt;chr&gt;</th><th scope=col>&lt;dbl&gt;</th><th scope=col>&lt;chr&gt;</th></tr>\n",
       "</thead>\n",
       "<tbody>\n",
       "\t<tr><th scope=row>1</th><td>12496</td><td>Married</td><td>Female</td><td>40000</td><td>1</td><td>Bachelors      </td><td>Skilled Manual</td><td>Yes</td><td>0</td><td>0-1 Miles </td><td>Europe </td><td>42</td><td>No </td></tr>\n",
       "\t<tr><th scope=row>2</th><td>24107</td><td>Married</td><td>Male  </td><td>30000</td><td>3</td><td>Partial College</td><td>Clerical      </td><td>Yes</td><td>1</td><td>0-1 Miles </td><td>Europe </td><td>43</td><td>No </td></tr>\n",
       "\t<tr><th scope=row>3</th><td>14177</td><td>Married</td><td>Male  </td><td>80000</td><td>5</td><td>Partial College</td><td>Professional  </td><td>No </td><td>2</td><td>2-5 Miles </td><td>Europe </td><td>60</td><td>No </td></tr>\n",
       "\t<tr><th scope=row>4</th><td>24381</td><td>Single </td><td>Male  </td><td>70000</td><td>0</td><td>Bachelors      </td><td>Professional  </td><td>Yes</td><td>1</td><td>5-10 Miles</td><td>Pacific</td><td>41</td><td>Yes</td></tr>\n",
       "\t<tr><th scope=row>5</th><td>25597</td><td>Single </td><td>Male  </td><td>30000</td><td>0</td><td>Bachelors      </td><td>Clerical      </td><td>No </td><td>0</td><td>0-1 Miles </td><td>Europe </td><td>36</td><td>Yes</td></tr>\n",
       "\t<tr><th scope=row>6</th><td>13507</td><td>Married</td><td>Female</td><td>10000</td><td>2</td><td>Partial College</td><td>Manual        </td><td>Yes</td><td>0</td><td>1-2 Miles </td><td>Europe </td><td>50</td><td>No </td></tr>\n",
       "</tbody>\n",
       "</table>\n"
      ],
      "text/latex": [
       "A data.frame: 6 × 13\n",
       "\\begin{tabular}{r|lllllllllllll}\n",
       "  & ID & Marital.Status & Gender & Income & Children & Education & Occupation & Home.Owner & Cars & Commute.Distance & Region & Age & Purchased.Bike\\\\\n",
       "  & <int> & <chr> & <chr> & <dbl> & <dbl> & <chr> & <chr> & <chr> & <dbl> & <chr> & <chr> & <dbl> & <chr>\\\\\n",
       "\\hline\n",
       "\t1 & 12496 & Married & Female & 40000 & 1 & Bachelors       & Skilled Manual & Yes & 0 & 0-1 Miles  & Europe  & 42 & No \\\\\n",
       "\t2 & 24107 & Married & Male   & 30000 & 3 & Partial College & Clerical       & Yes & 1 & 0-1 Miles  & Europe  & 43 & No \\\\\n",
       "\t3 & 14177 & Married & Male   & 80000 & 5 & Partial College & Professional   & No  & 2 & 2-5 Miles  & Europe  & 60 & No \\\\\n",
       "\t4 & 24381 & Single  & Male   & 70000 & 0 & Bachelors       & Professional   & Yes & 1 & 5-10 Miles & Pacific & 41 & Yes\\\\\n",
       "\t5 & 25597 & Single  & Male   & 30000 & 0 & Bachelors       & Clerical       & No  & 0 & 0-1 Miles  & Europe  & 36 & Yes\\\\\n",
       "\t6 & 13507 & Married & Female & 10000 & 2 & Partial College & Manual         & Yes & 0 & 1-2 Miles  & Europe  & 50 & No \\\\\n",
       "\\end{tabular}\n"
      ],
      "text/markdown": [
       "\n",
       "A data.frame: 6 × 13\n",
       "\n",
       "| <!--/--> | ID &lt;int&gt; | Marital.Status &lt;chr&gt; | Gender &lt;chr&gt; | Income &lt;dbl&gt; | Children &lt;dbl&gt; | Education &lt;chr&gt; | Occupation &lt;chr&gt; | Home.Owner &lt;chr&gt; | Cars &lt;dbl&gt; | Commute.Distance &lt;chr&gt; | Region &lt;chr&gt; | Age &lt;dbl&gt; | Purchased.Bike &lt;chr&gt; |\n",
       "|---|---|---|---|---|---|---|---|---|---|---|---|---|---|\n",
       "| 1 | 12496 | Married | Female | 40000 | 1 | Bachelors       | Skilled Manual | Yes | 0 | 0-1 Miles  | Europe  | 42 | No  |\n",
       "| 2 | 24107 | Married | Male   | 30000 | 3 | Partial College | Clerical       | Yes | 1 | 0-1 Miles  | Europe  | 43 | No  |\n",
       "| 3 | 14177 | Married | Male   | 80000 | 5 | Partial College | Professional   | No  | 2 | 2-5 Miles  | Europe  | 60 | No  |\n",
       "| 4 | 24381 | Single  | Male   | 70000 | 0 | Bachelors       | Professional   | Yes | 1 | 5-10 Miles | Pacific | 41 | Yes |\n",
       "| 5 | 25597 | Single  | Male   | 30000 | 0 | Bachelors       | Clerical       | No  | 0 | 0-1 Miles  | Europe  | 36 | Yes |\n",
       "| 6 | 13507 | Married | Female | 10000 | 2 | Partial College | Manual         | Yes | 0 | 1-2 Miles  | Europe  | 50 | No  |\n",
       "\n"
      ],
      "text/plain": [
       "  ID    Marital.Status Gender Income Children Education       Occupation    \n",
       "1 12496 Married        Female 40000  1        Bachelors       Skilled Manual\n",
       "2 24107 Married        Male   30000  3        Partial College Clerical      \n",
       "3 14177 Married        Male   80000  5        Partial College Professional  \n",
       "4 24381 Single         Male   70000  0        Bachelors       Professional  \n",
       "5 25597 Single         Male   30000  0        Bachelors       Clerical      \n",
       "6 13507 Married        Female 10000  2        Partial College Manual        \n",
       "  Home.Owner Cars Commute.Distance Region  Age Purchased.Bike\n",
       "1 Yes        0    0-1 Miles        Europe  42  No            \n",
       "2 Yes        1    0-1 Miles        Europe  43  No            \n",
       "3 No         2    2-5 Miles        Europe  60  No            \n",
       "4 Yes        1    5-10 Miles       Pacific 41  Yes           \n",
       "5 No         0    0-1 Miles        Europe  36  Yes           \n",
       "6 Yes        0    1-2 Miles        Europe  50  No            "
      ]
     },
     "metadata": {},
     "output_type": "display_data"
    }
   ],
   "source": [
    "remove_outliers=bike_buyers[-c(7,13,44,122,179,260,322,357,830,994),]\n",
    "head(remove_outliers)"
   ]
  },
  {
   "cell_type": "code",
   "execution_count": 42,
   "id": "9a2ff44d",
   "metadata": {
    "scrolled": false
   },
   "outputs": [
    {
     "data": {
      "text/html": [
       "<table class=\"dataframe\">\n",
       "<caption>A data.frame: 6 × 13</caption>\n",
       "<thead>\n",
       "\t<tr><th></th><th scope=col>ID</th><th scope=col>Marital.Status</th><th scope=col>Gender</th><th scope=col>Income</th><th scope=col>Children</th><th scope=col>Education</th><th scope=col>Occupation</th><th scope=col>Home.Owner</th><th scope=col>Cars</th><th scope=col>Commute.Distance</th><th scope=col>Region</th><th scope=col>Age</th><th scope=col>Purchased.Bike</th></tr>\n",
       "\t<tr><th></th><th scope=col>&lt;int&gt;</th><th scope=col>&lt;chr&gt;</th><th scope=col>&lt;chr&gt;</th><th scope=col>&lt;dbl&gt;</th><th scope=col>&lt;dbl&gt;</th><th scope=col>&lt;chr&gt;</th><th scope=col>&lt;chr&gt;</th><th scope=col>&lt;chr&gt;</th><th scope=col>&lt;dbl&gt;</th><th scope=col>&lt;chr&gt;</th><th scope=col>&lt;chr&gt;</th><th scope=col>&lt;dbl&gt;</th><th scope=col>&lt;chr&gt;</th></tr>\n",
       "</thead>\n",
       "<tbody>\n",
       "\t<tr><th scope=row>995</th><td>13466</td><td>Married</td><td>Male</td><td>8e+04</td><td>5</td><td>Partial College</td><td>Professional  </td><td>Yes</td><td>3</td><td>1-2 Miles</td><td>North America</td><td>46</td><td>No </td></tr>\n",
       "\t<tr><th scope=row>996</th><td>23731</td><td>Married</td><td>Male</td><td>6e+04</td><td>2</td><td>High School    </td><td>Professional  </td><td>Yes</td><td>2</td><td>2-5 Miles</td><td>North America</td><td>54</td><td>Yes</td></tr>\n",
       "\t<tr><th scope=row>997</th><td>28672</td><td>Single </td><td>Male</td><td>7e+04</td><td>4</td><td>Graduate Degree</td><td>Professional  </td><td>Yes</td><td>0</td><td>2-5 Miles</td><td>North America</td><td>35</td><td>Yes</td></tr>\n",
       "\t<tr><th scope=row>998</th><td>11809</td><td>Married</td><td>Male</td><td>6e+04</td><td>2</td><td>Bachelors      </td><td>Skilled Manual</td><td>Yes</td><td>0</td><td>0-1 Miles</td><td>North America</td><td>38</td><td>Yes</td></tr>\n",
       "\t<tr><th scope=row>999</th><td>19664</td><td>Single </td><td>Male</td><td>1e+05</td><td>3</td><td>Bachelors      </td><td>Management    </td><td>No </td><td>3</td><td>1-2 Miles</td><td>North America</td><td>38</td><td>No </td></tr>\n",
       "\t<tr><th scope=row>1000</th><td>12121</td><td>Single </td><td>Male</td><td>6e+04</td><td>3</td><td>High School    </td><td>Professional  </td><td>Yes</td><td>2</td><td>10+ Miles</td><td>North America</td><td>53</td><td>Yes</td></tr>\n",
       "</tbody>\n",
       "</table>\n"
      ],
      "text/latex": [
       "A data.frame: 6 × 13\n",
       "\\begin{tabular}{r|lllllllllllll}\n",
       "  & ID & Marital.Status & Gender & Income & Children & Education & Occupation & Home.Owner & Cars & Commute.Distance & Region & Age & Purchased.Bike\\\\\n",
       "  & <int> & <chr> & <chr> & <dbl> & <dbl> & <chr> & <chr> & <chr> & <dbl> & <chr> & <chr> & <dbl> & <chr>\\\\\n",
       "\\hline\n",
       "\t995 & 13466 & Married & Male & 8e+04 & 5 & Partial College & Professional   & Yes & 3 & 1-2 Miles & North America & 46 & No \\\\\n",
       "\t996 & 23731 & Married & Male & 6e+04 & 2 & High School     & Professional   & Yes & 2 & 2-5 Miles & North America & 54 & Yes\\\\\n",
       "\t997 & 28672 & Single  & Male & 7e+04 & 4 & Graduate Degree & Professional   & Yes & 0 & 2-5 Miles & North America & 35 & Yes\\\\\n",
       "\t998 & 11809 & Married & Male & 6e+04 & 2 & Bachelors       & Skilled Manual & Yes & 0 & 0-1 Miles & North America & 38 & Yes\\\\\n",
       "\t999 & 19664 & Single  & Male & 1e+05 & 3 & Bachelors       & Management     & No  & 3 & 1-2 Miles & North America & 38 & No \\\\\n",
       "\t1000 & 12121 & Single  & Male & 6e+04 & 3 & High School     & Professional   & Yes & 2 & 10+ Miles & North America & 53 & Yes\\\\\n",
       "\\end{tabular}\n"
      ],
      "text/markdown": [
       "\n",
       "A data.frame: 6 × 13\n",
       "\n",
       "| <!--/--> | ID &lt;int&gt; | Marital.Status &lt;chr&gt; | Gender &lt;chr&gt; | Income &lt;dbl&gt; | Children &lt;dbl&gt; | Education &lt;chr&gt; | Occupation &lt;chr&gt; | Home.Owner &lt;chr&gt; | Cars &lt;dbl&gt; | Commute.Distance &lt;chr&gt; | Region &lt;chr&gt; | Age &lt;dbl&gt; | Purchased.Bike &lt;chr&gt; |\n",
       "|---|---|---|---|---|---|---|---|---|---|---|---|---|---|\n",
       "| 995 | 13466 | Married | Male | 8e+04 | 5 | Partial College | Professional   | Yes | 3 | 1-2 Miles | North America | 46 | No  |\n",
       "| 996 | 23731 | Married | Male | 6e+04 | 2 | High School     | Professional   | Yes | 2 | 2-5 Miles | North America | 54 | Yes |\n",
       "| 997 | 28672 | Single  | Male | 7e+04 | 4 | Graduate Degree | Professional   | Yes | 0 | 2-5 Miles | North America | 35 | Yes |\n",
       "| 998 | 11809 | Married | Male | 6e+04 | 2 | Bachelors       | Skilled Manual | Yes | 0 | 0-1 Miles | North America | 38 | Yes |\n",
       "| 999 | 19664 | Single  | Male | 1e+05 | 3 | Bachelors       | Management     | No  | 3 | 1-2 Miles | North America | 38 | No  |\n",
       "| 1000 | 12121 | Single  | Male | 6e+04 | 3 | High School     | Professional   | Yes | 2 | 10+ Miles | North America | 53 | Yes |\n",
       "\n"
      ],
      "text/plain": [
       "     ID    Marital.Status Gender Income Children Education       Occupation    \n",
       "995  13466 Married        Male   8e+04  5        Partial College Professional  \n",
       "996  23731 Married        Male   6e+04  2        High School     Professional  \n",
       "997  28672 Single         Male   7e+04  4        Graduate Degree Professional  \n",
       "998  11809 Married        Male   6e+04  2        Bachelors       Skilled Manual\n",
       "999  19664 Single         Male   1e+05  3        Bachelors       Management    \n",
       "1000 12121 Single         Male   6e+04  3        High School     Professional  \n",
       "     Home.Owner Cars Commute.Distance Region        Age Purchased.Bike\n",
       "995  Yes        3    1-2 Miles        North America 46  No            \n",
       "996  Yes        2    2-5 Miles        North America 54  Yes           \n",
       "997  Yes        0    2-5 Miles        North America 35  Yes           \n",
       "998  Yes        0    0-1 Miles        North America 38  Yes           \n",
       "999  No         3    1-2 Miles        North America 38  No            \n",
       "1000 Yes        2    10+ Miles        North America 53  Yes           "
      ]
     },
     "metadata": {},
     "output_type": "display_data"
    }
   ],
   "source": [
    "bike_buyers=('Income'=remove_outliers)\n",
    "tail(bike_buyers)"
   ]
  },
  {
   "cell_type": "code",
   "execution_count": 43,
   "id": "ea587b85",
   "metadata": {},
   "outputs": [
    {
     "data": {
      "image/png": "[encoded data removed]",
      "text/plain": [
       "plot without title"
      ]
     },
     "metadata": {
      "image/png": {
       "height": 420,
       "width": 420
      }
     },
     "output_type": "display_data"
    }
   ],
   "source": [
    "ggplot(data=bike_buyers,aes(x=Income))+geom_boxplot()"
   ]
  },
  {
   "cell_type": "markdown",
   "id": "8cf25d6c",
   "metadata": {},
   "source": [
    "### Removing Age Outlier"
   ]
  },
  {
   "cell_type": "code",
   "execution_count": 44,
   "id": "90738471",
   "metadata": {},
   "outputs": [
    {
     "data": {
      "image/png": "[encoded data removed]",
      "text/plain": [
       "plot without title"
      ]
     },
     "metadata": {
      "image/png": {
       "height": 420,
       "width": 420
      }
     },
     "output_type": "display_data"
    }
   ],
   "source": [
    "ggplot(data=bike_buyers,aes(x=Age))+geom_boxplot()"
   ]
  },
  {
   "cell_type": "code",
   "execution_count": 45,
   "id": "f04d5133",
   "metadata": {},
   "outputs": [
    {
     "name": "stdout",
     "output_type": "stream",
     "text": [
      "[1] 246 368 394 588\n"
     ]
    }
   ],
   "source": [
    "#to exctract those rows whose Cars>3\n",
    "f=filter(bike_buyers,Age>75)\n",
    "#print(f)\n",
    "x=which(bike_buyers['Age']>75)\n",
    "print(x)"
   ]
  },
  {
   "cell_type": "code",
   "execution_count": 46,
   "id": "d6509d52",
   "metadata": {
    "scrolled": false
   },
   "outputs": [
    {
     "data": {
      "text/html": [
       "<table class=\"dataframe\">\n",
       "<caption>A data.frame: 6 × 13</caption>\n",
       "<thead>\n",
       "\t<tr><th></th><th scope=col>ID</th><th scope=col>Marital.Status</th><th scope=col>Gender</th><th scope=col>Income</th><th scope=col>Children</th><th scope=col>Education</th><th scope=col>Occupation</th><th scope=col>Home.Owner</th><th scope=col>Cars</th><th scope=col>Commute.Distance</th><th scope=col>Region</th><th scope=col>Age</th><th scope=col>Purchased.Bike</th></tr>\n",
       "\t<tr><th></th><th scope=col>&lt;int&gt;</th><th scope=col>&lt;chr&gt;</th><th scope=col>&lt;chr&gt;</th><th scope=col>&lt;dbl&gt;</th><th scope=col>&lt;dbl&gt;</th><th scope=col>&lt;chr&gt;</th><th scope=col>&lt;chr&gt;</th><th scope=col>&lt;chr&gt;</th><th scope=col>&lt;dbl&gt;</th><th scope=col>&lt;chr&gt;</th><th scope=col>&lt;chr&gt;</th><th scope=col>&lt;dbl&gt;</th><th scope=col>&lt;chr&gt;</th></tr>\n",
       "</thead>\n",
       "<tbody>\n",
       "\t<tr><th scope=row>1</th><td>12496</td><td>Married</td><td>Female</td><td>40000</td><td>1</td><td>Bachelors      </td><td>Skilled Manual</td><td>Yes</td><td>0</td><td>0-1 Miles </td><td>Europe </td><td>42</td><td>No </td></tr>\n",
       "\t<tr><th scope=row>2</th><td>24107</td><td>Married</td><td>Male  </td><td>30000</td><td>3</td><td>Partial College</td><td>Clerical      </td><td>Yes</td><td>1</td><td>0-1 Miles </td><td>Europe </td><td>43</td><td>No </td></tr>\n",
       "\t<tr><th scope=row>3</th><td>14177</td><td>Married</td><td>Male  </td><td>80000</td><td>5</td><td>Partial College</td><td>Professional  </td><td>No </td><td>2</td><td>2-5 Miles </td><td>Europe </td><td>60</td><td>No </td></tr>\n",
       "\t<tr><th scope=row>4</th><td>24381</td><td>Single </td><td>Male  </td><td>70000</td><td>0</td><td>Bachelors      </td><td>Professional  </td><td>Yes</td><td>1</td><td>5-10 Miles</td><td>Pacific</td><td>41</td><td>Yes</td></tr>\n",
       "\t<tr><th scope=row>5</th><td>25597</td><td>Single </td><td>Male  </td><td>30000</td><td>0</td><td>Bachelors      </td><td>Clerical      </td><td>No </td><td>0</td><td>0-1 Miles </td><td>Europe </td><td>36</td><td>Yes</td></tr>\n",
       "\t<tr><th scope=row>6</th><td>13507</td><td>Married</td><td>Female</td><td>10000</td><td>2</td><td>Partial College</td><td>Manual        </td><td>Yes</td><td>0</td><td>1-2 Miles </td><td>Europe </td><td>50</td><td>No </td></tr>\n",
       "</tbody>\n",
       "</table>\n"
      ],
      "text/latex": [
       "A data.frame: 6 × 13\n",
       "\\begin{tabular}{r|lllllllllllll}\n",
       "  & ID & Marital.Status & Gender & Income & Children & Education & Occupation & Home.Owner & Cars & Commute.Distance & Region & Age & Purchased.Bike\\\\\n",
       "  & <int> & <chr> & <chr> & <dbl> & <dbl> & <chr> & <chr> & <chr> & <dbl> & <chr> & <chr> & <dbl> & <chr>\\\\\n",
       "\\hline\n",
       "\t1 & 12496 & Married & Female & 40000 & 1 & Bachelors       & Skilled Manual & Yes & 0 & 0-1 Miles  & Europe  & 42 & No \\\\\n",
       "\t2 & 24107 & Married & Male   & 30000 & 3 & Partial College & Clerical       & Yes & 1 & 0-1 Miles  & Europe  & 43 & No \\\\\n",
       "\t3 & 14177 & Married & Male   & 80000 & 5 & Partial College & Professional   & No  & 2 & 2-5 Miles  & Europe  & 60 & No \\\\\n",
       "\t4 & 24381 & Single  & Male   & 70000 & 0 & Bachelors       & Professional   & Yes & 1 & 5-10 Miles & Pacific & 41 & Yes\\\\\n",
       "\t5 & 25597 & Single  & Male   & 30000 & 0 & Bachelors       & Clerical       & No  & 0 & 0-1 Miles  & Europe  & 36 & Yes\\\\\n",
       "\t6 & 13507 & Married & Female & 10000 & 2 & Partial College & Manual         & Yes & 0 & 1-2 Miles  & Europe  & 50 & No \\\\\n",
       "\\end{tabular}\n"
      ],
      "text/markdown": [
       "\n",
       "A data.frame: 6 × 13\n",
       "\n",
       "| <!--/--> | ID &lt;int&gt; | Marital.Status &lt;chr&gt; | Gender &lt;chr&gt; | Income &lt;dbl&gt; | Children &lt;dbl&gt; | Education &lt;chr&gt; | Occupation &lt;chr&gt; | Home.Owner &lt;chr&gt; | Cars &lt;dbl&gt; | Commute.Distance &lt;chr&gt; | Region &lt;chr&gt; | Age &lt;dbl&gt; | Purchased.Bike &lt;chr&gt; |\n",
       "|---|---|---|---|---|---|---|---|---|---|---|---|---|---|\n",
       "| 1 | 12496 | Married | Female | 40000 | 1 | Bachelors       | Skilled Manual | Yes | 0 | 0-1 Miles  | Europe  | 42 | No  |\n",
       "| 2 | 24107 | Married | Male   | 30000 | 3 | Partial College | Clerical       | Yes | 1 | 0-1 Miles  | Europe  | 43 | No  |\n",
       "| 3 | 14177 | Married | Male   | 80000 | 5 | Partial College | Professional   | No  | 2 | 2-5 Miles  | Europe  | 60 | No  |\n",
       "| 4 | 24381 | Single  | Male   | 70000 | 0 | Bachelors       | Professional   | Yes | 1 | 5-10 Miles | Pacific | 41 | Yes |\n",
       "| 5 | 25597 | Single  | Male   | 30000 | 0 | Bachelors       | Clerical       | No  | 0 | 0-1 Miles  | Europe  | 36 | Yes |\n",
       "| 6 | 13507 | Married | Female | 10000 | 2 | Partial College | Manual         | Yes | 0 | 1-2 Miles  | Europe  | 50 | No  |\n",
       "\n"
      ],
      "text/plain": [
       "  ID    Marital.Status Gender Income Children Education       Occupation    \n",
       "1 12496 Married        Female 40000  1        Bachelors       Skilled Manual\n",
       "2 24107 Married        Male   30000  3        Partial College Clerical      \n",
       "3 14177 Married        Male   80000  5        Partial College Professional  \n",
       "4 24381 Single         Male   70000  0        Bachelors       Professional  \n",
       "5 25597 Single         Male   30000  0        Bachelors       Clerical      \n",
       "6 13507 Married        Female 10000  2        Partial College Manual        \n",
       "  Home.Owner Cars Commute.Distance Region  Age Purchased.Bike\n",
       "1 Yes        0    0-1 Miles        Europe  42  No            \n",
       "2 Yes        1    0-1 Miles        Europe  43  No            \n",
       "3 No         2    2-5 Miles        Europe  60  No            \n",
       "4 Yes        1    5-10 Miles       Pacific 41  Yes           \n",
       "5 No         0    0-1 Miles        Europe  36  Yes           \n",
       "6 Yes        0    1-2 Miles        Europe  50  No            "
      ]
     },
     "metadata": {},
     "output_type": "display_data"
    }
   ],
   "source": [
    "remove_outliers=bike_buyers[-c(x),]\n",
    "head(remove_outliers)"
   ]
  },
  {
   "cell_type": "code",
   "execution_count": 47,
   "id": "6b4fa744",
   "metadata": {
    "scrolled": false
   },
   "outputs": [
    {
     "data": {
      "text/html": [
       "<table class=\"dataframe\">\n",
       "<caption>A data.frame: 6 × 13</caption>\n",
       "<thead>\n",
       "\t<tr><th></th><th scope=col>ID</th><th scope=col>Marital.Status</th><th scope=col>Gender</th><th scope=col>Income</th><th scope=col>Children</th><th scope=col>Education</th><th scope=col>Occupation</th><th scope=col>Home.Owner</th><th scope=col>Cars</th><th scope=col>Commute.Distance</th><th scope=col>Region</th><th scope=col>Age</th><th scope=col>Purchased.Bike</th></tr>\n",
       "\t<tr><th></th><th scope=col>&lt;int&gt;</th><th scope=col>&lt;chr&gt;</th><th scope=col>&lt;chr&gt;</th><th scope=col>&lt;dbl&gt;</th><th scope=col>&lt;dbl&gt;</th><th scope=col>&lt;chr&gt;</th><th scope=col>&lt;chr&gt;</th><th scope=col>&lt;chr&gt;</th><th scope=col>&lt;dbl&gt;</th><th scope=col>&lt;chr&gt;</th><th scope=col>&lt;chr&gt;</th><th scope=col>&lt;dbl&gt;</th><th scope=col>&lt;chr&gt;</th></tr>\n",
       "</thead>\n",
       "<tbody>\n",
       "\t<tr><th scope=row>995</th><td>13466</td><td>Married</td><td>Male</td><td>8e+04</td><td>5</td><td>Partial College</td><td>Professional  </td><td>Yes</td><td>3</td><td>1-2 Miles</td><td>North America</td><td>46</td><td>No </td></tr>\n",
       "\t<tr><th scope=row>996</th><td>23731</td><td>Married</td><td>Male</td><td>6e+04</td><td>2</td><td>High School    </td><td>Professional  </td><td>Yes</td><td>2</td><td>2-5 Miles</td><td>North America</td><td>54</td><td>Yes</td></tr>\n",
       "\t<tr><th scope=row>997</th><td>28672</td><td>Single </td><td>Male</td><td>7e+04</td><td>4</td><td>Graduate Degree</td><td>Professional  </td><td>Yes</td><td>0</td><td>2-5 Miles</td><td>North America</td><td>35</td><td>Yes</td></tr>\n",
       "\t<tr><th scope=row>998</th><td>11809</td><td>Married</td><td>Male</td><td>6e+04</td><td>2</td><td>Bachelors      </td><td>Skilled Manual</td><td>Yes</td><td>0</td><td>0-1 Miles</td><td>North America</td><td>38</td><td>Yes</td></tr>\n",
       "\t<tr><th scope=row>999</th><td>19664</td><td>Single </td><td>Male</td><td>1e+05</td><td>3</td><td>Bachelors      </td><td>Management    </td><td>No </td><td>3</td><td>1-2 Miles</td><td>North America</td><td>38</td><td>No </td></tr>\n",
       "\t<tr><th scope=row>1000</th><td>12121</td><td>Single </td><td>Male</td><td>6e+04</td><td>3</td><td>High School    </td><td>Professional  </td><td>Yes</td><td>2</td><td>10+ Miles</td><td>North America</td><td>53</td><td>Yes</td></tr>\n",
       "</tbody>\n",
       "</table>\n"
      ],
      "text/latex": [
       "A data.frame: 6 × 13\n",
       "\\begin{tabular}{r|lllllllllllll}\n",
       "  & ID & Marital.Status & Gender & Income & Children & Education & Occupation & Home.Owner & Cars & Commute.Distance & Region & Age & Purchased.Bike\\\\\n",
       "  & <int> & <chr> & <chr> & <dbl> & <dbl> & <chr> & <chr> & <chr> & <dbl> & <chr> & <chr> & <dbl> & <chr>\\\\\n",
       "\\hline\n",
       "\t995 & 13466 & Married & Male & 8e+04 & 5 & Partial College & Professional   & Yes & 3 & 1-2 Miles & North America & 46 & No \\\\\n",
       "\t996 & 23731 & Married & Male & 6e+04 & 2 & High School     & Professional   & Yes & 2 & 2-5 Miles & North America & 54 & Yes\\\\\n",
       "\t997 & 28672 & Single  & Male & 7e+04 & 4 & Graduate Degree & Professional   & Yes & 0 & 2-5 Miles & North America & 35 & Yes\\\\\n",
       "\t998 & 11809 & Married & Male & 6e+04 & 2 & Bachelors       & Skilled Manual & Yes & 0 & 0-1 Miles & North America & 38 & Yes\\\\\n",
       "\t999 & 19664 & Single  & Male & 1e+05 & 3 & Bachelors       & Management     & No  & 3 & 1-2 Miles & North America & 38 & No \\\\\n",
       "\t1000 & 12121 & Single  & Male & 6e+04 & 3 & High School     & Professional   & Yes & 2 & 10+ Miles & North America & 53 & Yes\\\\\n",
       "\\end{tabular}\n"
      ],
      "text/markdown": [
       "\n",
       "A data.frame: 6 × 13\n",
       "\n",
       "| <!--/--> | ID &lt;int&gt; | Marital.Status &lt;chr&gt; | Gender &lt;chr&gt; | Income &lt;dbl&gt; | Children &lt;dbl&gt; | Education &lt;chr&gt; | Occupation &lt;chr&gt; | Home.Owner &lt;chr&gt; | Cars &lt;dbl&gt; | Commute.Distance &lt;chr&gt; | Region &lt;chr&gt; | Age &lt;dbl&gt; | Purchased.Bike &lt;chr&gt; |\n",
       "|---|---|---|---|---|---|---|---|---|---|---|---|---|---|\n",
       "| 995 | 13466 | Married | Male | 8e+04 | 5 | Partial College | Professional   | Yes | 3 | 1-2 Miles | North America | 46 | No  |\n",
       "| 996 | 23731 | Married | Male | 6e+04 | 2 | High School     | Professional   | Yes | 2 | 2-5 Miles | North America | 54 | Yes |\n",
       "| 997 | 28672 | Single  | Male | 7e+04 | 4 | Graduate Degree | Professional   | Yes | 0 | 2-5 Miles | North America | 35 | Yes |\n",
       "| 998 | 11809 | Married | Male | 6e+04 | 2 | Bachelors       | Skilled Manual | Yes | 0 | 0-1 Miles | North America | 38 | Yes |\n",
       "| 999 | 19664 | Single  | Male | 1e+05 | 3 | Bachelors       | Management     | No  | 3 | 1-2 Miles | North America | 38 | No  |\n",
       "| 1000 | 12121 | Single  | Male | 6e+04 | 3 | High School     | Professional   | Yes | 2 | 10+ Miles | North America | 53 | Yes |\n",
       "\n"
      ],
      "text/plain": [
       "     ID    Marital.Status Gender Income Children Education       Occupation    \n",
       "995  13466 Married        Male   8e+04  5        Partial College Professional  \n",
       "996  23731 Married        Male   6e+04  2        High School     Professional  \n",
       "997  28672 Single         Male   7e+04  4        Graduate Degree Professional  \n",
       "998  11809 Married        Male   6e+04  2        Bachelors       Skilled Manual\n",
       "999  19664 Single         Male   1e+05  3        Bachelors       Management    \n",
       "1000 12121 Single         Male   6e+04  3        High School     Professional  \n",
       "     Home.Owner Cars Commute.Distance Region        Age Purchased.Bike\n",
       "995  Yes        3    1-2 Miles        North America 46  No            \n",
       "996  Yes        2    2-5 Miles        North America 54  Yes           \n",
       "997  Yes        0    2-5 Miles        North America 35  Yes           \n",
       "998  Yes        0    0-1 Miles        North America 38  Yes           \n",
       "999  No         3    1-2 Miles        North America 38  No            \n",
       "1000 Yes        2    10+ Miles        North America 53  Yes           "
      ]
     },
     "metadata": {},
     "output_type": "display_data"
    }
   ],
   "source": [
    "bike_buyers=('Age'=remove_outliers)\n",
    "tail(bike_buyers)"
   ]
  },
  {
   "cell_type": "code",
   "execution_count": 48,
   "id": "46397f6a",
   "metadata": {
    "scrolled": false
   },
   "outputs": [
    {
     "data": {
      "image/png": "[encoded data removed]",
      "text/plain": [
       "plot without title"
      ]
     },
     "metadata": {
      "image/png": {
       "height": 420,
       "width": 600
      }
     },
     "output_type": "display_data"
    }
   ],
   "source": [
    "options(repr.plot.width=10,repr.plot.height=7)\n",
    "ggplot(data=bike_buyers,aes(x=Age))+geom_boxplot()"
   ]
  },
  {
   "cell_type": "code",
   "execution_count": 49,
   "id": "a2af16d6",
   "metadata": {},
   "outputs": [
    {
     "data": {
      "image/png": "[encoded data removed]",
      "text/plain": [
       "Plot with title \"Income Histogram\""
      ]
     },
     "metadata": {
      "image/png": {
       "height": 420,
       "width": 600
      }
     },
     "output_type": "display_data"
    }
   ],
   "source": [
    "hist(bike_buyers$Income,col=\"black\",border=\"white\",main='Income Histogram')"
   ]
  },
  {
   "cell_type": "code",
   "execution_count": 50,
   "id": "6364a0c2",
   "metadata": {},
   "outputs": [
    {
     "data": {
      "image/png": "[encoded data removed]",
      "text/plain": [
       "Plot with title \"Income Density Spread\""
      ]
     },
     "metadata": {
      "image/png": {
       "height": 420,
       "width": 600
      }
     },
     "output_type": "display_data"
    }
   ],
   "source": [
    "plot(density(bike_buyers$Income),main='Income Density Spread')"
   ]
  },
  {
   "cell_type": "code",
   "execution_count": 84,
   "id": "39f1b8a2",
   "metadata": {},
   "outputs": [
    {
     "data": {
      "image/png": "[encoded data removed]",
      "text/plain": [
       "plot without title"
      ]
     },
     "metadata": {
      "image/png": {
       "height": 420,
       "width": 600
      }
     },
     "output_type": "display_data"
    }
   ],
   "source": [
    "ggplot(data=bike_buyers,aes(x=Gender))+geom_bar(fill=\"orange\",color='green')"
   ]
  },
  {
   "cell_type": "code",
   "execution_count": 83,
   "id": "7ef14cee",
   "metadata": {},
   "outputs": [
    {
     "name": "stderr",
     "output_type": "stream",
     "text": [
      "`stat_bin()` using `bins = 30`. Pick better value with `binwidth`.\n",
      "\n"
     ]
    },
    {
     "data": {
      "image/png": "[encoded data removed]",
      "text/plain": [
       "plot without title"
      ]
     },
     "metadata": {
      "image/png": {
       "height": 420,
       "width": 600
      }
     },
     "output_type": "display_data"
    }
   ],
   "source": [
    "ggplot(bike_buyers,aes(x = Age))+geom_histogram(fill=\"red\",color='yellow')"
   ]
  },
  {
   "cell_type": "code",
   "execution_count": 77,
   "id": "4fce1ea0",
   "metadata": {},
   "outputs": [
    {
     "data": {
      "image/png": "[encoded data removed]",
      "text/plain": [
       "plot without title"
      ]
     },
     "metadata": {
      "image/png": {
       "height": 420,
       "width": 600
      }
     },
     "output_type": "display_data"
    }
   ],
   "source": [
    "ggplot(bike_buyers,aes(x =Age, y=Occupation))+geom_line(aes(color=Age))"
   ]
  },
  {
   "cell_type": "code",
   "execution_count": 80,
   "id": "d8001a69",
   "metadata": {},
   "outputs": [
    {
     "data": {
      "image/png": "[encoded data removed]",
      "text/plain": [
       "Plot with title \"Age Histogram\""
      ]
     },
     "metadata": {
      "image/png": {
       "height": 420,
       "width": 600
      }
     },
     "output_type": "display_data"
    }
   ],
   "source": [
    "hist(bike_buyers$Age,col='yellow',border=\"black\",main='Age Histogram')"
   ]
  },
  {
   "cell_type": "code",
   "execution_count": null,
   "id": "9341bdbe",
   "metadata": {},
   "outputs": [],
   "source": []
  }
 ],
 "metadata": {
  "kernelspec": {
   "display_name": "R",
   "language": "R",
   "name": "ir"
  },
  "language_info": {
   "codemirror_mode": "r",
   "file_extension": ".r",
   "mimetype": "text/x-r-source",
   "name": "R",
   "pygments_lexer": "r",
   "version": "4.2.1"
  }
 },
 "nbformat": 4,
 "nbformat_minor": 5
}
